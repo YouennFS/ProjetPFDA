{
  "nbformat": 4,
  "nbformat_minor": 0,
  "metadata": {
    "colab": {
      "name": "Projet PFDA",
      "provenance": [],
      "collapsed_sections": [
        "Wi0lvh8cDblC",
        "Qqh2qGaJFA3O",
        "Q6I5I2K_ApT-",
        "0v_xClvEBPs9",
        "QEq12mB6nm5a",
        "QYKRILoeq_bp",
        "-d57gp4Otx1X",
        "K3seJeLtv3kX",
        "jaIaTvkzyAvi",
        "sntehoClyzMn",
        "ea_rQhi6zIq4",
        "a_K-Sg-3zM6_",
        "Nm2Ag4tQ1bJS",
        "H2S9mgdp20lq"
      ],
      "toc_visible": true
    },
    "kernelspec": {
      "name": "python3",
      "display_name": "Python 3"
    }
  },
  "cells": [
    {
      "cell_type": "code",
      "metadata": {
        "id": "Jm7vzT8HBg7F"
      },
      "source": [
        "import pandas as pd\r\n"
      ],
      "execution_count": null,
      "outputs": []
    },
    {
      "cell_type": "code",
      "metadata": {
        "id": "3VeQqbYiCEbe"
      },
      "source": [
        "BikeData = pd.read_csv(\"SeoulBikeData.csv\",sep=\",\")\r\n",
        "BikeData = BikeData.rename(columns={\"Rented Bike Count\" : \"bikeCount\",\"Functioning Day\":\"functioningDay\",\"Solar Radiation\" : \"solarRadiation\",\"Dew point temperature\":\"dpTemperature\",\"Wind speed\":\"windSpeed\"})"
      ],
      "execution_count": null,
      "outputs": []
    },
    {
      "cell_type": "code",
      "metadata": {
        "colab": {
          "base_uri": "https://localhost:8080/",
          "height": 419
        },
        "id": "QGVKWzQLCRSU",
        "outputId": "4e9a5bcc-7833-45b5-d4c9-00e405e93d08"
      },
      "source": [
        "BikeData"
      ],
      "execution_count": null,
      "outputs": [
        {
          "output_type": "execute_result",
          "data": {
            "text/html": [
              "<div>\n",
              "<style scoped>\n",
              "    .dataframe tbody tr th:only-of-type {\n",
              "        vertical-align: middle;\n",
              "    }\n",
              "\n",
              "    .dataframe tbody tr th {\n",
              "        vertical-align: top;\n",
              "    }\n",
              "\n",
              "    .dataframe thead th {\n",
              "        text-align: right;\n",
              "    }\n",
              "</style>\n",
              "<table border=\"1\" class=\"dataframe\">\n",
              "  <thead>\n",
              "    <tr style=\"text-align: right;\">\n",
              "      <th></th>\n",
              "      <th>Date</th>\n",
              "      <th>bikeCount</th>\n",
              "      <th>Hour</th>\n",
              "      <th>Temperature</th>\n",
              "      <th>Humidity</th>\n",
              "      <th>windSpeed</th>\n",
              "      <th>Visibility</th>\n",
              "      <th>dpTemperature</th>\n",
              "      <th>solarRadiation</th>\n",
              "      <th>Rainfall</th>\n",
              "      <th>Snowfall</th>\n",
              "      <th>Seasons</th>\n",
              "      <th>Holiday</th>\n",
              "      <th>functioningDay</th>\n",
              "    </tr>\n",
              "  </thead>\n",
              "  <tbody>\n",
              "    <tr>\n",
              "      <th>0</th>\n",
              "      <td>01/12/2017</td>\n",
              "      <td>254</td>\n",
              "      <td>0</td>\n",
              "      <td>-5.2</td>\n",
              "      <td>37</td>\n",
              "      <td>2.2</td>\n",
              "      <td>2000</td>\n",
              "      <td>-17.6</td>\n",
              "      <td>0.0</td>\n",
              "      <td>0.0</td>\n",
              "      <td>0.0</td>\n",
              "      <td>Winter</td>\n",
              "      <td>No Holiday</td>\n",
              "      <td>Yes</td>\n",
              "    </tr>\n",
              "    <tr>\n",
              "      <th>1</th>\n",
              "      <td>01/12/2017</td>\n",
              "      <td>204</td>\n",
              "      <td>1</td>\n",
              "      <td>-5.5</td>\n",
              "      <td>38</td>\n",
              "      <td>0.8</td>\n",
              "      <td>2000</td>\n",
              "      <td>-17.6</td>\n",
              "      <td>0.0</td>\n",
              "      <td>0.0</td>\n",
              "      <td>0.0</td>\n",
              "      <td>Winter</td>\n",
              "      <td>No Holiday</td>\n",
              "      <td>Yes</td>\n",
              "    </tr>\n",
              "    <tr>\n",
              "      <th>2</th>\n",
              "      <td>01/12/2017</td>\n",
              "      <td>173</td>\n",
              "      <td>2</td>\n",
              "      <td>-6.0</td>\n",
              "      <td>39</td>\n",
              "      <td>1.0</td>\n",
              "      <td>2000</td>\n",
              "      <td>-17.7</td>\n",
              "      <td>0.0</td>\n",
              "      <td>0.0</td>\n",
              "      <td>0.0</td>\n",
              "      <td>Winter</td>\n",
              "      <td>No Holiday</td>\n",
              "      <td>Yes</td>\n",
              "    </tr>\n",
              "    <tr>\n",
              "      <th>3</th>\n",
              "      <td>01/12/2017</td>\n",
              "      <td>107</td>\n",
              "      <td>3</td>\n",
              "      <td>-6.2</td>\n",
              "      <td>40</td>\n",
              "      <td>0.9</td>\n",
              "      <td>2000</td>\n",
              "      <td>-17.6</td>\n",
              "      <td>0.0</td>\n",
              "      <td>0.0</td>\n",
              "      <td>0.0</td>\n",
              "      <td>Winter</td>\n",
              "      <td>No Holiday</td>\n",
              "      <td>Yes</td>\n",
              "    </tr>\n",
              "    <tr>\n",
              "      <th>4</th>\n",
              "      <td>01/12/2017</td>\n",
              "      <td>78</td>\n",
              "      <td>4</td>\n",
              "      <td>-6.0</td>\n",
              "      <td>36</td>\n",
              "      <td>2.3</td>\n",
              "      <td>2000</td>\n",
              "      <td>-18.6</td>\n",
              "      <td>0.0</td>\n",
              "      <td>0.0</td>\n",
              "      <td>0.0</td>\n",
              "      <td>Winter</td>\n",
              "      <td>No Holiday</td>\n",
              "      <td>Yes</td>\n",
              "    </tr>\n",
              "    <tr>\n",
              "      <th>...</th>\n",
              "      <td>...</td>\n",
              "      <td>...</td>\n",
              "      <td>...</td>\n",
              "      <td>...</td>\n",
              "      <td>...</td>\n",
              "      <td>...</td>\n",
              "      <td>...</td>\n",
              "      <td>...</td>\n",
              "      <td>...</td>\n",
              "      <td>...</td>\n",
              "      <td>...</td>\n",
              "      <td>...</td>\n",
              "      <td>...</td>\n",
              "      <td>...</td>\n",
              "    </tr>\n",
              "    <tr>\n",
              "      <th>8755</th>\n",
              "      <td>30/11/2018</td>\n",
              "      <td>1003</td>\n",
              "      <td>19</td>\n",
              "      <td>4.2</td>\n",
              "      <td>34</td>\n",
              "      <td>2.6</td>\n",
              "      <td>1894</td>\n",
              "      <td>-10.3</td>\n",
              "      <td>0.0</td>\n",
              "      <td>0.0</td>\n",
              "      <td>0.0</td>\n",
              "      <td>Autumn</td>\n",
              "      <td>No Holiday</td>\n",
              "      <td>Yes</td>\n",
              "    </tr>\n",
              "    <tr>\n",
              "      <th>8756</th>\n",
              "      <td>30/11/2018</td>\n",
              "      <td>764</td>\n",
              "      <td>20</td>\n",
              "      <td>3.4</td>\n",
              "      <td>37</td>\n",
              "      <td>2.3</td>\n",
              "      <td>2000</td>\n",
              "      <td>-9.9</td>\n",
              "      <td>0.0</td>\n",
              "      <td>0.0</td>\n",
              "      <td>0.0</td>\n",
              "      <td>Autumn</td>\n",
              "      <td>No Holiday</td>\n",
              "      <td>Yes</td>\n",
              "    </tr>\n",
              "    <tr>\n",
              "      <th>8757</th>\n",
              "      <td>30/11/2018</td>\n",
              "      <td>694</td>\n",
              "      <td>21</td>\n",
              "      <td>2.6</td>\n",
              "      <td>39</td>\n",
              "      <td>0.3</td>\n",
              "      <td>1968</td>\n",
              "      <td>-9.9</td>\n",
              "      <td>0.0</td>\n",
              "      <td>0.0</td>\n",
              "      <td>0.0</td>\n",
              "      <td>Autumn</td>\n",
              "      <td>No Holiday</td>\n",
              "      <td>Yes</td>\n",
              "    </tr>\n",
              "    <tr>\n",
              "      <th>8758</th>\n",
              "      <td>30/11/2018</td>\n",
              "      <td>712</td>\n",
              "      <td>22</td>\n",
              "      <td>2.1</td>\n",
              "      <td>41</td>\n",
              "      <td>1.0</td>\n",
              "      <td>1859</td>\n",
              "      <td>-9.8</td>\n",
              "      <td>0.0</td>\n",
              "      <td>0.0</td>\n",
              "      <td>0.0</td>\n",
              "      <td>Autumn</td>\n",
              "      <td>No Holiday</td>\n",
              "      <td>Yes</td>\n",
              "    </tr>\n",
              "    <tr>\n",
              "      <th>8759</th>\n",
              "      <td>30/11/2018</td>\n",
              "      <td>584</td>\n",
              "      <td>23</td>\n",
              "      <td>1.9</td>\n",
              "      <td>43</td>\n",
              "      <td>1.3</td>\n",
              "      <td>1909</td>\n",
              "      <td>-9.3</td>\n",
              "      <td>0.0</td>\n",
              "      <td>0.0</td>\n",
              "      <td>0.0</td>\n",
              "      <td>Autumn</td>\n",
              "      <td>No Holiday</td>\n",
              "      <td>Yes</td>\n",
              "    </tr>\n",
              "  </tbody>\n",
              "</table>\n",
              "<p>8760 rows × 14 columns</p>\n",
              "</div>"
            ],
            "text/plain": [
              "            Date  bikeCount  Hour  ...  Seasons     Holiday  functioningDay\n",
              "0     01/12/2017        254     0  ...   Winter  No Holiday             Yes\n",
              "1     01/12/2017        204     1  ...   Winter  No Holiday             Yes\n",
              "2     01/12/2017        173     2  ...   Winter  No Holiday             Yes\n",
              "3     01/12/2017        107     3  ...   Winter  No Holiday             Yes\n",
              "4     01/12/2017         78     4  ...   Winter  No Holiday             Yes\n",
              "...          ...        ...   ...  ...      ...         ...             ...\n",
              "8755  30/11/2018       1003    19  ...   Autumn  No Holiday             Yes\n",
              "8756  30/11/2018        764    20  ...   Autumn  No Holiday             Yes\n",
              "8757  30/11/2018        694    21  ...   Autumn  No Holiday             Yes\n",
              "8758  30/11/2018        712    22  ...   Autumn  No Holiday             Yes\n",
              "8759  30/11/2018        584    23  ...   Autumn  No Holiday             Yes\n",
              "\n",
              "[8760 rows x 14 columns]"
            ]
          },
          "metadata": {
            "tags": []
          },
          "execution_count": 3
        }
      ]
    },
    {
      "cell_type": "markdown",
      "metadata": {
        "id": "k3DG0aF3C3I3"
      },
      "source": [
        "Date : year-month-day\r\n",
        "\r\n",
        "Rented Bike count - Count of bikes rented at each hour\r\n",
        "\r\n",
        "Hour - Hour of he day\r\n",
        "\r\n",
        "Temperature-Temperature in Celsius\r\n",
        "\r\n",
        "Humidity - %\r\n",
        "\r\n",
        "Windspeed - m/s\r\n",
        "\r\n",
        "Visibility - 10m\r\n",
        "\r\n",
        "Dew point temperature - Celsius\r\n",
        "\r\n",
        "Solar radiation - MJ/m2\r\n",
        "\r\n",
        "Rainfall - mm\r\n",
        "\r\n",
        "Snowfall - cm\r\n",
        "\r\n",
        "Seasons - Winter, Spring, Summer, Autumn\r\n",
        "\r\n",
        "Holiday - Holiday/No holiday\r\n",
        "\r\n",
        "Functional Day - NoFunc(Non Functional Hours), Fun(Functional hours)\r\n",
        "\r\n",
        "\r\n"
      ]
    },
    {
      "cell_type": "markdown",
      "metadata": {
        "id": "OAi-mCneDgZ9"
      },
      "source": [
        "# Etude des Variables"
      ]
    },
    {
      "cell_type": "markdown",
      "metadata": {
        "id": "Wi0lvh8cDblC"
      },
      "source": [
        "## Variable : Functional Day"
      ]
    },
    {
      "cell_type": "code",
      "metadata": {
        "id": "J6E0ZanfCk8J"
      },
      "source": [
        "func_bike = BikeData.groupby(\"functioningDay\").bikeCount.sum()\r\n",
        "func_bike\r\n",
        "BikeData[\"functioningDay\"] = BikeData[\"functioningDay\"].apply(lambda x : 0 if x==\"No\" else 1)"
      ],
      "execution_count": null,
      "outputs": []
    },
    {
      "cell_type": "markdown",
      "metadata": {
        "id": "Qqh2qGaJFA3O"
      },
      "source": [
        "## Variable : Holiday"
      ]
    },
    {
      "cell_type": "markdown",
      "metadata": {
        "id": "_mjTnYa5HS0y"
      },
      "source": [
        "On groupe par jour pour effctuer l'étude sur les jours"
      ]
    },
    {
      "cell_type": "code",
      "metadata": {
        "colab": {
          "base_uri": "https://localhost:8080/",
          "height": 419
        },
        "id": "oSorvt9qHSnS",
        "outputId": "60e88b9b-ea58-489a-abb9-453eb86b5ece"
      },
      "source": [
        "holiday_bike = BikeData[[\"Date\",\"bikeCount\"]].groupby(\"Date\").sum().reset_index()\r\n",
        "holiday_bike"
      ],
      "execution_count": null,
      "outputs": [
        {
          "output_type": "execute_result",
          "data": {
            "text/html": [
              "<div>\n",
              "<style scoped>\n",
              "    .dataframe tbody tr th:only-of-type {\n",
              "        vertical-align: middle;\n",
              "    }\n",
              "\n",
              "    .dataframe tbody tr th {\n",
              "        vertical-align: top;\n",
              "    }\n",
              "\n",
              "    .dataframe thead th {\n",
              "        text-align: right;\n",
              "    }\n",
              "</style>\n",
              "<table border=\"1\" class=\"dataframe\">\n",
              "  <thead>\n",
              "    <tr style=\"text-align: right;\">\n",
              "      <th></th>\n",
              "      <th>Date</th>\n",
              "      <th>bikeCount</th>\n",
              "    </tr>\n",
              "  </thead>\n",
              "  <tbody>\n",
              "    <tr>\n",
              "      <th>0</th>\n",
              "      <td>01/01/2018</td>\n",
              "      <td>4290</td>\n",
              "    </tr>\n",
              "    <tr>\n",
              "      <th>1</th>\n",
              "      <td>01/02/2018</td>\n",
              "      <td>5377</td>\n",
              "    </tr>\n",
              "    <tr>\n",
              "      <th>2</th>\n",
              "      <td>01/03/2018</td>\n",
              "      <td>5132</td>\n",
              "    </tr>\n",
              "    <tr>\n",
              "      <th>3</th>\n",
              "      <td>01/04/2018</td>\n",
              "      <td>17388</td>\n",
              "    </tr>\n",
              "    <tr>\n",
              "      <th>4</th>\n",
              "      <td>01/05/2018</td>\n",
              "      <td>26820</td>\n",
              "    </tr>\n",
              "    <tr>\n",
              "      <th>...</th>\n",
              "      <td>...</td>\n",
              "      <td>...</td>\n",
              "    </tr>\n",
              "    <tr>\n",
              "      <th>360</th>\n",
              "      <td>31/05/2018</td>\n",
              "      <td>31681</td>\n",
              "    </tr>\n",
              "    <tr>\n",
              "      <th>361</th>\n",
              "      <td>31/07/2018</td>\n",
              "      <td>22897</td>\n",
              "    </tr>\n",
              "    <tr>\n",
              "      <th>362</th>\n",
              "      <td>31/08/2018</td>\n",
              "      <td>27817</td>\n",
              "    </tr>\n",
              "    <tr>\n",
              "      <th>363</th>\n",
              "      <td>31/10/2018</td>\n",
              "      <td>21545</td>\n",
              "    </tr>\n",
              "    <tr>\n",
              "      <th>364</th>\n",
              "      <td>31/12/2017</td>\n",
              "      <td>3423</td>\n",
              "    </tr>\n",
              "  </tbody>\n",
              "</table>\n",
              "<p>365 rows × 2 columns</p>\n",
              "</div>"
            ],
            "text/plain": [
              "           Date  bikeCount\n",
              "0    01/01/2018       4290\n",
              "1    01/02/2018       5377\n",
              "2    01/03/2018       5132\n",
              "3    01/04/2018      17388\n",
              "4    01/05/2018      26820\n",
              "..          ...        ...\n",
              "360  31/05/2018      31681\n",
              "361  31/07/2018      22897\n",
              "362  31/08/2018      27817\n",
              "363  31/10/2018      21545\n",
              "364  31/12/2017       3423\n",
              "\n",
              "[365 rows x 2 columns]"
            ]
          },
          "metadata": {
            "tags": []
          },
          "execution_count": 5
        }
      ]
    },
    {
      "cell_type": "markdown",
      "metadata": {
        "id": "tGzl1JHCIX0a"
      },
      "source": [
        "Rajout de la variable Holiday"
      ]
    },
    {
      "cell_type": "code",
      "metadata": {
        "colab": {
          "base_uri": "https://localhost:8080/",
          "height": 419
        },
        "id": "5fuQC8SQIWmy",
        "outputId": "8c9f3d11-edfc-45b8-a58a-e739be062028"
      },
      "source": [
        "holiday_bike[\"Holiday\"] = BikeData[BikeData.Hour==12].reset_index().Holiday\r\n",
        "holiday_bike"
      ],
      "execution_count": null,
      "outputs": [
        {
          "output_type": "execute_result",
          "data": {
            "text/html": [
              "<div>\n",
              "<style scoped>\n",
              "    .dataframe tbody tr th:only-of-type {\n",
              "        vertical-align: middle;\n",
              "    }\n",
              "\n",
              "    .dataframe tbody tr th {\n",
              "        vertical-align: top;\n",
              "    }\n",
              "\n",
              "    .dataframe thead th {\n",
              "        text-align: right;\n",
              "    }\n",
              "</style>\n",
              "<table border=\"1\" class=\"dataframe\">\n",
              "  <thead>\n",
              "    <tr style=\"text-align: right;\">\n",
              "      <th></th>\n",
              "      <th>Date</th>\n",
              "      <th>bikeCount</th>\n",
              "      <th>Holiday</th>\n",
              "    </tr>\n",
              "  </thead>\n",
              "  <tbody>\n",
              "    <tr>\n",
              "      <th>0</th>\n",
              "      <td>01/01/2018</td>\n",
              "      <td>4290</td>\n",
              "      <td>No Holiday</td>\n",
              "    </tr>\n",
              "    <tr>\n",
              "      <th>1</th>\n",
              "      <td>01/02/2018</td>\n",
              "      <td>5377</td>\n",
              "      <td>No Holiday</td>\n",
              "    </tr>\n",
              "    <tr>\n",
              "      <th>2</th>\n",
              "      <td>01/03/2018</td>\n",
              "      <td>5132</td>\n",
              "      <td>No Holiday</td>\n",
              "    </tr>\n",
              "    <tr>\n",
              "      <th>3</th>\n",
              "      <td>01/04/2018</td>\n",
              "      <td>17388</td>\n",
              "      <td>No Holiday</td>\n",
              "    </tr>\n",
              "    <tr>\n",
              "      <th>4</th>\n",
              "      <td>01/05/2018</td>\n",
              "      <td>26820</td>\n",
              "      <td>No Holiday</td>\n",
              "    </tr>\n",
              "    <tr>\n",
              "      <th>...</th>\n",
              "      <td>...</td>\n",
              "      <td>...</td>\n",
              "      <td>...</td>\n",
              "    </tr>\n",
              "    <tr>\n",
              "      <th>360</th>\n",
              "      <td>31/05/2018</td>\n",
              "      <td>31681</td>\n",
              "      <td>No Holiday</td>\n",
              "    </tr>\n",
              "    <tr>\n",
              "      <th>361</th>\n",
              "      <td>31/07/2018</td>\n",
              "      <td>22897</td>\n",
              "      <td>No Holiday</td>\n",
              "    </tr>\n",
              "    <tr>\n",
              "      <th>362</th>\n",
              "      <td>31/08/2018</td>\n",
              "      <td>27817</td>\n",
              "      <td>No Holiday</td>\n",
              "    </tr>\n",
              "    <tr>\n",
              "      <th>363</th>\n",
              "      <td>31/10/2018</td>\n",
              "      <td>21545</td>\n",
              "      <td>No Holiday</td>\n",
              "    </tr>\n",
              "    <tr>\n",
              "      <th>364</th>\n",
              "      <td>31/12/2017</td>\n",
              "      <td>3423</td>\n",
              "      <td>No Holiday</td>\n",
              "    </tr>\n",
              "  </tbody>\n",
              "</table>\n",
              "<p>365 rows × 3 columns</p>\n",
              "</div>"
            ],
            "text/plain": [
              "           Date  bikeCount     Holiday\n",
              "0    01/01/2018       4290  No Holiday\n",
              "1    01/02/2018       5377  No Holiday\n",
              "2    01/03/2018       5132  No Holiday\n",
              "3    01/04/2018      17388  No Holiday\n",
              "4    01/05/2018      26820  No Holiday\n",
              "..          ...        ...         ...\n",
              "360  31/05/2018      31681  No Holiday\n",
              "361  31/07/2018      22897  No Holiday\n",
              "362  31/08/2018      27817  No Holiday\n",
              "363  31/10/2018      21545  No Holiday\n",
              "364  31/12/2017       3423  No Holiday\n",
              "\n",
              "[365 rows x 3 columns]"
            ]
          },
          "metadata": {
            "tags": []
          },
          "execution_count": 6
        }
      ]
    },
    {
      "cell_type": "markdown",
      "metadata": {
        "id": "d5dWQpSiGOX8"
      },
      "source": [
        "Pourcentage de jour de vacances et jour hors vacances"
      ]
    },
    {
      "cell_type": "code",
      "metadata": {
        "colab": {
          "base_uri": "https://localhost:8080/"
        },
        "id": "btJ1ZSyqGNgP",
        "outputId": "51f1ebce-4b12-4f56-a04c-bb7fd6168dfd"
      },
      "source": [
        "holiday_bike[holiday_bike.Holiday==\"Holiday\"].Holiday.count()/holiday_bike.Date.count()"
      ],
      "execution_count": null,
      "outputs": [
        {
          "output_type": "execute_result",
          "data": {
            "text/plain": [
              "0.049315068493150684"
            ]
          },
          "metadata": {
            "tags": []
          },
          "execution_count": 7
        }
      ]
    },
    {
      "cell_type": "code",
      "metadata": {
        "colab": {
          "base_uri": "https://localhost:8080/"
        },
        "id": "lxj5H5K6OhJv",
        "outputId": "6054c7f1-0e9f-4d93-eca1-426ce91950b7"
      },
      "source": [
        "holiday_bike[holiday_bike.Holiday==\"No Holiday\"].Holiday.count()/holiday_bike.Date.count()"
      ],
      "execution_count": null,
      "outputs": [
        {
          "output_type": "execute_result",
          "data": {
            "text/plain": [
              "0.9506849315068493"
            ]
          },
          "metadata": {
            "tags": []
          },
          "execution_count": 8
        }
      ]
    },
    {
      "cell_type": "markdown",
      "metadata": {
        "id": "w7ZwCLKTOnc-"
      },
      "source": [
        "5% des jours sont des vacances"
      ]
    },
    {
      "cell_type": "code",
      "metadata": {
        "colab": {
          "base_uri": "https://localhost:8080/"
        },
        "id": "8ubMuOwcD-9j",
        "outputId": "dfd30caa-72bf-4378-e751-cea1d8e171db"
      },
      "source": [
        "holiday_bike.groupby(\"Holiday\").bikeCount.sum()/holiday_bike.bikeCount.sum()"
      ],
      "execution_count": null,
      "outputs": [
        {
          "output_type": "execute_result",
          "data": {
            "text/plain": [
              "Holiday\n",
              "Holiday       0.062628\n",
              "No Holiday    0.937372\n",
              "Name: bikeCount, dtype: float64"
            ]
          },
          "metadata": {
            "tags": []
          },
          "execution_count": 9
        }
      ]
    },
    {
      "cell_type": "markdown",
      "metadata": {
        "id": "9xd1eLn5Oz9G"
      },
      "source": [
        "6.2% des vélos sont loués pendants des vacances"
      ]
    },
    {
      "cell_type": "markdown",
      "metadata": {
        "id": "VtFLt9tFO6xx"
      },
      "source": [
        "Y a t-il plus de jours non Functional Day en vacances ?"
      ]
    },
    {
      "cell_type": "code",
      "metadata": {
        "colab": {
          "base_uri": "https://localhost:8080/",
          "height": 419
        },
        "id": "6EKUDvd3ECFz",
        "outputId": "2a510e80-0691-4e4f-95c6-fbab4b89c497"
      },
      "source": [
        "holiday_bike[\"functioningDay\"] = BikeData[BikeData.Hour==12].reset_index().functioningDay\r\n",
        "holiday_bike"
      ],
      "execution_count": null,
      "outputs": [
        {
          "output_type": "execute_result",
          "data": {
            "text/html": [
              "<div>\n",
              "<style scoped>\n",
              "    .dataframe tbody tr th:only-of-type {\n",
              "        vertical-align: middle;\n",
              "    }\n",
              "\n",
              "    .dataframe tbody tr th {\n",
              "        vertical-align: top;\n",
              "    }\n",
              "\n",
              "    .dataframe thead th {\n",
              "        text-align: right;\n",
              "    }\n",
              "</style>\n",
              "<table border=\"1\" class=\"dataframe\">\n",
              "  <thead>\n",
              "    <tr style=\"text-align: right;\">\n",
              "      <th></th>\n",
              "      <th>Date</th>\n",
              "      <th>bikeCount</th>\n",
              "      <th>Holiday</th>\n",
              "      <th>functioningDay</th>\n",
              "    </tr>\n",
              "  </thead>\n",
              "  <tbody>\n",
              "    <tr>\n",
              "      <th>0</th>\n",
              "      <td>01/01/2018</td>\n",
              "      <td>4290</td>\n",
              "      <td>No Holiday</td>\n",
              "      <td>1</td>\n",
              "    </tr>\n",
              "    <tr>\n",
              "      <th>1</th>\n",
              "      <td>01/02/2018</td>\n",
              "      <td>5377</td>\n",
              "      <td>No Holiday</td>\n",
              "      <td>1</td>\n",
              "    </tr>\n",
              "    <tr>\n",
              "      <th>2</th>\n",
              "      <td>01/03/2018</td>\n",
              "      <td>5132</td>\n",
              "      <td>No Holiday</td>\n",
              "      <td>1</td>\n",
              "    </tr>\n",
              "    <tr>\n",
              "      <th>3</th>\n",
              "      <td>01/04/2018</td>\n",
              "      <td>17388</td>\n",
              "      <td>No Holiday</td>\n",
              "      <td>1</td>\n",
              "    </tr>\n",
              "    <tr>\n",
              "      <th>4</th>\n",
              "      <td>01/05/2018</td>\n",
              "      <td>26820</td>\n",
              "      <td>No Holiday</td>\n",
              "      <td>1</td>\n",
              "    </tr>\n",
              "    <tr>\n",
              "      <th>...</th>\n",
              "      <td>...</td>\n",
              "      <td>...</td>\n",
              "      <td>...</td>\n",
              "      <td>...</td>\n",
              "    </tr>\n",
              "    <tr>\n",
              "      <th>360</th>\n",
              "      <td>31/05/2018</td>\n",
              "      <td>31681</td>\n",
              "      <td>No Holiday</td>\n",
              "      <td>1</td>\n",
              "    </tr>\n",
              "    <tr>\n",
              "      <th>361</th>\n",
              "      <td>31/07/2018</td>\n",
              "      <td>22897</td>\n",
              "      <td>No Holiday</td>\n",
              "      <td>1</td>\n",
              "    </tr>\n",
              "    <tr>\n",
              "      <th>362</th>\n",
              "      <td>31/08/2018</td>\n",
              "      <td>27817</td>\n",
              "      <td>No Holiday</td>\n",
              "      <td>1</td>\n",
              "    </tr>\n",
              "    <tr>\n",
              "      <th>363</th>\n",
              "      <td>31/10/2018</td>\n",
              "      <td>21545</td>\n",
              "      <td>No Holiday</td>\n",
              "      <td>1</td>\n",
              "    </tr>\n",
              "    <tr>\n",
              "      <th>364</th>\n",
              "      <td>31/12/2017</td>\n",
              "      <td>3423</td>\n",
              "      <td>No Holiday</td>\n",
              "      <td>1</td>\n",
              "    </tr>\n",
              "  </tbody>\n",
              "</table>\n",
              "<p>365 rows × 4 columns</p>\n",
              "</div>"
            ],
            "text/plain": [
              "           Date  bikeCount     Holiday  functioningDay\n",
              "0    01/01/2018       4290  No Holiday               1\n",
              "1    01/02/2018       5377  No Holiday               1\n",
              "2    01/03/2018       5132  No Holiday               1\n",
              "3    01/04/2018      17388  No Holiday               1\n",
              "4    01/05/2018      26820  No Holiday               1\n",
              "..          ...        ...         ...             ...\n",
              "360  31/05/2018      31681  No Holiday               1\n",
              "361  31/07/2018      22897  No Holiday               1\n",
              "362  31/08/2018      27817  No Holiday               1\n",
              "363  31/10/2018      21545  No Holiday               1\n",
              "364  31/12/2017       3423  No Holiday               1\n",
              "\n",
              "[365 rows x 4 columns]"
            ]
          },
          "metadata": {
            "tags": []
          },
          "execution_count": 10
        }
      ]
    },
    {
      "cell_type": "code",
      "metadata": {
        "colab": {
          "base_uri": "https://localhost:8080/"
        },
        "id": "i-f3jnGqJJb6",
        "outputId": "97c73b70-1d3e-4400-c5c8-461cd33f6552"
      },
      "source": [
        "holiday_bike[(holiday_bike.Holiday==\"Holiday\") & (holiday_bike.functioningDay==\"No\")].Date.count()/holiday_bike[(holiday_bike.Holiday==\"Holiday\")].Date.count()"
      ],
      "execution_count": null,
      "outputs": [
        {
          "output_type": "execute_result",
          "data": {
            "text/plain": [
              "0.0"
            ]
          },
          "metadata": {
            "tags": []
          },
          "execution_count": 11
        }
      ]
    },
    {
      "cell_type": "code",
      "metadata": {
        "colab": {
          "base_uri": "https://localhost:8080/"
        },
        "id": "tuReFA9FQTXf",
        "outputId": "89c227f7-4fe6-48bc-b9ba-bc90c764919b"
      },
      "source": [
        "holiday_bike[(holiday_bike.Holiday==\"No Holiday\") & (holiday_bike.functioningDay==\"No\")].Date.count()/holiday_bike[(holiday_bike.Holiday==\"No Holiday\")].Date.count()"
      ],
      "execution_count": null,
      "outputs": [
        {
          "output_type": "execute_result",
          "data": {
            "text/plain": [
              "0.0"
            ]
          },
          "metadata": {
            "tags": []
          },
          "execution_count": 12
        }
      ]
    },
    {
      "cell_type": "code",
      "metadata": {
        "id": "rBphlqVPY9_l"
      },
      "source": [
        "BikeData[\"Holiday\"] = BikeData[\"Holiday\"].apply(lambda x : 0 if x==\"No Holiday\" else 1)"
      ],
      "execution_count": null,
      "outputs": []
    },
    {
      "cell_type": "markdown",
      "metadata": {
        "id": "QfGaTADCRfHR"
      },
      "source": [
        "Les vacances et les non-vacances contiennent tous deux des jour functional et non functional, garder les variables distinctent est donc pertinent"
      ]
    },
    {
      "cell_type": "markdown",
      "metadata": {
        "id": "Q6I5I2K_ApT-"
      },
      "source": [
        "## Variable : Seasons"
      ]
    },
    {
      "cell_type": "markdown",
      "metadata": {
        "id": "taB6vdV8Au_Z"
      },
      "source": [
        "On groupe une nouvelle fois par jours pour réaliser l'étude"
      ]
    },
    {
      "cell_type": "code",
      "metadata": {
        "id": "im7a2iD_Q3OG",
        "colab": {
          "base_uri": "https://localhost:8080/",
          "height": 419
        },
        "outputId": "63a5b512-34c0-462c-caec-e01551567d25"
      },
      "source": [
        "seasons_bike = BikeData[[\"Date\",\"bikeCount\"]].groupby(\"Date\").sum().reset_index()\n",
        "seasons_bike"
      ],
      "execution_count": null,
      "outputs": [
        {
          "output_type": "execute_result",
          "data": {
            "text/html": [
              "<div>\n",
              "<style scoped>\n",
              "    .dataframe tbody tr th:only-of-type {\n",
              "        vertical-align: middle;\n",
              "    }\n",
              "\n",
              "    .dataframe tbody tr th {\n",
              "        vertical-align: top;\n",
              "    }\n",
              "\n",
              "    .dataframe thead th {\n",
              "        text-align: right;\n",
              "    }\n",
              "</style>\n",
              "<table border=\"1\" class=\"dataframe\">\n",
              "  <thead>\n",
              "    <tr style=\"text-align: right;\">\n",
              "      <th></th>\n",
              "      <th>Date</th>\n",
              "      <th>bikeCount</th>\n",
              "    </tr>\n",
              "  </thead>\n",
              "  <tbody>\n",
              "    <tr>\n",
              "      <th>0</th>\n",
              "      <td>01/01/2018</td>\n",
              "      <td>4290</td>\n",
              "    </tr>\n",
              "    <tr>\n",
              "      <th>1</th>\n",
              "      <td>01/02/2018</td>\n",
              "      <td>5377</td>\n",
              "    </tr>\n",
              "    <tr>\n",
              "      <th>2</th>\n",
              "      <td>01/03/2018</td>\n",
              "      <td>5132</td>\n",
              "    </tr>\n",
              "    <tr>\n",
              "      <th>3</th>\n",
              "      <td>01/04/2018</td>\n",
              "      <td>17388</td>\n",
              "    </tr>\n",
              "    <tr>\n",
              "      <th>4</th>\n",
              "      <td>01/05/2018</td>\n",
              "      <td>26820</td>\n",
              "    </tr>\n",
              "    <tr>\n",
              "      <th>...</th>\n",
              "      <td>...</td>\n",
              "      <td>...</td>\n",
              "    </tr>\n",
              "    <tr>\n",
              "      <th>360</th>\n",
              "      <td>31/05/2018</td>\n",
              "      <td>31681</td>\n",
              "    </tr>\n",
              "    <tr>\n",
              "      <th>361</th>\n",
              "      <td>31/07/2018</td>\n",
              "      <td>22897</td>\n",
              "    </tr>\n",
              "    <tr>\n",
              "      <th>362</th>\n",
              "      <td>31/08/2018</td>\n",
              "      <td>27817</td>\n",
              "    </tr>\n",
              "    <tr>\n",
              "      <th>363</th>\n",
              "      <td>31/10/2018</td>\n",
              "      <td>21545</td>\n",
              "    </tr>\n",
              "    <tr>\n",
              "      <th>364</th>\n",
              "      <td>31/12/2017</td>\n",
              "      <td>3423</td>\n",
              "    </tr>\n",
              "  </tbody>\n",
              "</table>\n",
              "<p>365 rows × 2 columns</p>\n",
              "</div>"
            ],
            "text/plain": [
              "           Date  bikeCount\n",
              "0    01/01/2018       4290\n",
              "1    01/02/2018       5377\n",
              "2    01/03/2018       5132\n",
              "3    01/04/2018      17388\n",
              "4    01/05/2018      26820\n",
              "..          ...        ...\n",
              "360  31/05/2018      31681\n",
              "361  31/07/2018      22897\n",
              "362  31/08/2018      27817\n",
              "363  31/10/2018      21545\n",
              "364  31/12/2017       3423\n",
              "\n",
              "[365 rows x 2 columns]"
            ]
          },
          "metadata": {
            "tags": []
          },
          "execution_count": 14
        }
      ]
    },
    {
      "cell_type": "markdown",
      "metadata": {
        "id": "xbmScct4A02b"
      },
      "source": [
        "Rajout de la variable Seasons"
      ]
    },
    {
      "cell_type": "code",
      "metadata": {
        "id": "iuxL3FvnAkGN",
        "colab": {
          "base_uri": "https://localhost:8080/",
          "height": 419
        },
        "outputId": "9e07a29f-acd6-4d4e-e1c4-a17c636e532f"
      },
      "source": [
        "seasons_bike[\"Seasons\"] = BikeData[BikeData.Hour==12].reset_index().Seasons\n",
        "seasons_bike"
      ],
      "execution_count": null,
      "outputs": [
        {
          "output_type": "execute_result",
          "data": {
            "text/html": [
              "<div>\n",
              "<style scoped>\n",
              "    .dataframe tbody tr th:only-of-type {\n",
              "        vertical-align: middle;\n",
              "    }\n",
              "\n",
              "    .dataframe tbody tr th {\n",
              "        vertical-align: top;\n",
              "    }\n",
              "\n",
              "    .dataframe thead th {\n",
              "        text-align: right;\n",
              "    }\n",
              "</style>\n",
              "<table border=\"1\" class=\"dataframe\">\n",
              "  <thead>\n",
              "    <tr style=\"text-align: right;\">\n",
              "      <th></th>\n",
              "      <th>Date</th>\n",
              "      <th>bikeCount</th>\n",
              "      <th>Seasons</th>\n",
              "    </tr>\n",
              "  </thead>\n",
              "  <tbody>\n",
              "    <tr>\n",
              "      <th>0</th>\n",
              "      <td>01/01/2018</td>\n",
              "      <td>4290</td>\n",
              "      <td>Winter</td>\n",
              "    </tr>\n",
              "    <tr>\n",
              "      <th>1</th>\n",
              "      <td>01/02/2018</td>\n",
              "      <td>5377</td>\n",
              "      <td>Winter</td>\n",
              "    </tr>\n",
              "    <tr>\n",
              "      <th>2</th>\n",
              "      <td>01/03/2018</td>\n",
              "      <td>5132</td>\n",
              "      <td>Winter</td>\n",
              "    </tr>\n",
              "    <tr>\n",
              "      <th>3</th>\n",
              "      <td>01/04/2018</td>\n",
              "      <td>17388</td>\n",
              "      <td>Winter</td>\n",
              "    </tr>\n",
              "    <tr>\n",
              "      <th>4</th>\n",
              "      <td>01/05/2018</td>\n",
              "      <td>26820</td>\n",
              "      <td>Winter</td>\n",
              "    </tr>\n",
              "    <tr>\n",
              "      <th>...</th>\n",
              "      <td>...</td>\n",
              "      <td>...</td>\n",
              "      <td>...</td>\n",
              "    </tr>\n",
              "    <tr>\n",
              "      <th>360</th>\n",
              "      <td>31/05/2018</td>\n",
              "      <td>31681</td>\n",
              "      <td>Autumn</td>\n",
              "    </tr>\n",
              "    <tr>\n",
              "      <th>361</th>\n",
              "      <td>31/07/2018</td>\n",
              "      <td>22897</td>\n",
              "      <td>Autumn</td>\n",
              "    </tr>\n",
              "    <tr>\n",
              "      <th>362</th>\n",
              "      <td>31/08/2018</td>\n",
              "      <td>27817</td>\n",
              "      <td>Autumn</td>\n",
              "    </tr>\n",
              "    <tr>\n",
              "      <th>363</th>\n",
              "      <td>31/10/2018</td>\n",
              "      <td>21545</td>\n",
              "      <td>Autumn</td>\n",
              "    </tr>\n",
              "    <tr>\n",
              "      <th>364</th>\n",
              "      <td>31/12/2017</td>\n",
              "      <td>3423</td>\n",
              "      <td>Autumn</td>\n",
              "    </tr>\n",
              "  </tbody>\n",
              "</table>\n",
              "<p>365 rows × 3 columns</p>\n",
              "</div>"
            ],
            "text/plain": [
              "           Date  bikeCount Seasons\n",
              "0    01/01/2018       4290  Winter\n",
              "1    01/02/2018       5377  Winter\n",
              "2    01/03/2018       5132  Winter\n",
              "3    01/04/2018      17388  Winter\n",
              "4    01/05/2018      26820  Winter\n",
              "..          ...        ...     ...\n",
              "360  31/05/2018      31681  Autumn\n",
              "361  31/07/2018      22897  Autumn\n",
              "362  31/08/2018      27817  Autumn\n",
              "363  31/10/2018      21545  Autumn\n",
              "364  31/12/2017       3423  Autumn\n",
              "\n",
              "[365 rows x 3 columns]"
            ]
          },
          "metadata": {
            "tags": []
          },
          "execution_count": 15
        }
      ]
    },
    {
      "cell_type": "markdown",
      "metadata": {
        "id": "CpbzBUGxBB4B"
      },
      "source": [
        "Calcul du nombre de locations de vélo total au cours des différentes saisons"
      ]
    },
    {
      "cell_type": "code",
      "metadata": {
        "id": "cHEyFQTgA5n-",
        "colab": {
          "base_uri": "https://localhost:8080/"
        },
        "outputId": "cd5323cd-d2fb-4396-8ff7-dfffaa08ed41"
      },
      "source": [
        "seasons_bike = BikeData.groupby(\"Seasons\").bikeCount.sum()\n",
        "seasons_bike"
      ],
      "execution_count": null,
      "outputs": [
        {
          "output_type": "execute_result",
          "data": {
            "text/plain": [
              "Seasons\n",
              "Autumn    1790002\n",
              "Spring    1611909\n",
              "Summer    2283234\n",
              "Winter     487169\n",
              "Name: bikeCount, dtype: int64"
            ]
          },
          "metadata": {
            "tags": []
          },
          "execution_count": 16
        }
      ]
    },
    {
      "cell_type": "markdown",
      "metadata": {
        "id": "uS1tpktfBIWA"
      },
      "source": [
        "Affichage sous forme de graphique en bâton"
      ]
    },
    {
      "cell_type": "code",
      "metadata": {
        "id": "0eR66fdTA7vZ",
        "colab": {
          "base_uri": "https://localhost:8080/",
          "height": 293
        },
        "outputId": "0e41b714-2065-4eae-ad23-2494a00b1f73"
      },
      "source": [
        "import matplotlib.pyplot as plt\r\n",
        "\r\n",
        "plt.bar(seasons_bike.index,seasons_bike.values)"
      ],
      "execution_count": null,
      "outputs": [
        {
          "output_type": "execute_result",
          "data": {
            "text/plain": [
              "<BarContainer object of 4 artists>"
            ]
          },
          "metadata": {
            "tags": []
          },
          "execution_count": 17
        },
        {
          "output_type": "display_data",
          "data": {
            "image/png": "[encoded data removed]",
            "text/plain": [
              "<Figure size 432x288 with 1 Axes>"
            ]
          },
          "metadata": {
            "tags": [],
            "needs_background": "light"
          }
        }
      ]
    },
    {
      "cell_type": "markdown",
      "metadata": {
        "id": "M-ruuvl1A-9g"
      },
      "source": [
        "Les saisons ont un impact significatif sur la location de vélo. Il est donc pertinent de garder cette variable"
      ]
    },
    {
      "cell_type": "code",
      "metadata": {
        "id": "1gyiEQdKXlA8"
      },
      "source": [
        "BikeData[\"Seasons\"] = BikeData[\"Seasons\"].apply(lambda x : 0 if x==\"Winter\" else x)\r\n",
        "BikeData[\"Seasons\"] = BikeData[\"Seasons\"].apply(lambda x : 1 if x==\"Spring\" else x)\r\n",
        "BikeData[\"Seasons\"] = BikeData[\"Seasons\"].apply(lambda x : 2 if x==\"Summer\" else x)\r\n",
        "BikeData[\"Seasons\"] = BikeData[\"Seasons\"].apply(lambda x : 3 if x==\"Autumn\" else x)"
      ],
      "execution_count": null,
      "outputs": []
    },
    {
      "cell_type": "markdown",
      "metadata": {
        "id": "0v_xClvEBPs9"
      },
      "source": [
        "## Variable : Snowfall"
      ]
    },
    {
      "cell_type": "code",
      "metadata": {
        "id": "j1hwglHJBmhg",
        "colab": {
          "base_uri": "https://localhost:8080/",
          "height": 419
        },
        "outputId": "8c5a5eb8-e1d4-42ef-9101-703e4c3994b3"
      },
      "source": [
        "snowfall_bike = BikeData[[\"Date\",\"bikeCount\"]].groupby(\"Date\").sum().reset_index()\n",
        "snowfall_bike"
      ],
      "execution_count": null,
      "outputs": [
        {
          "output_type": "execute_result",
          "data": {
            "text/html": [
              "<div>\n",
              "<style scoped>\n",
              "    .dataframe tbody tr th:only-of-type {\n",
              "        vertical-align: middle;\n",
              "    }\n",
              "\n",
              "    .dataframe tbody tr th {\n",
              "        vertical-align: top;\n",
              "    }\n",
              "\n",
              "    .dataframe thead th {\n",
              "        text-align: right;\n",
              "    }\n",
              "</style>\n",
              "<table border=\"1\" class=\"dataframe\">\n",
              "  <thead>\n",
              "    <tr style=\"text-align: right;\">\n",
              "      <th></th>\n",
              "      <th>Date</th>\n",
              "      <th>bikeCount</th>\n",
              "    </tr>\n",
              "  </thead>\n",
              "  <tbody>\n",
              "    <tr>\n",
              "      <th>0</th>\n",
              "      <td>01/01/2018</td>\n",
              "      <td>4290</td>\n",
              "    </tr>\n",
              "    <tr>\n",
              "      <th>1</th>\n",
              "      <td>01/02/2018</td>\n",
              "      <td>5377</td>\n",
              "    </tr>\n",
              "    <tr>\n",
              "      <th>2</th>\n",
              "      <td>01/03/2018</td>\n",
              "      <td>5132</td>\n",
              "    </tr>\n",
              "    <tr>\n",
              "      <th>3</th>\n",
              "      <td>01/04/2018</td>\n",
              "      <td>17388</td>\n",
              "    </tr>\n",
              "    <tr>\n",
              "      <th>4</th>\n",
              "      <td>01/05/2018</td>\n",
              "      <td>26820</td>\n",
              "    </tr>\n",
              "    <tr>\n",
              "      <th>...</th>\n",
              "      <td>...</td>\n",
              "      <td>...</td>\n",
              "    </tr>\n",
              "    <tr>\n",
              "      <th>360</th>\n",
              "      <td>31/05/2018</td>\n",
              "      <td>31681</td>\n",
              "    </tr>\n",
              "    <tr>\n",
              "      <th>361</th>\n",
              "      <td>31/07/2018</td>\n",
              "      <td>22897</td>\n",
              "    </tr>\n",
              "    <tr>\n",
              "      <th>362</th>\n",
              "      <td>31/08/2018</td>\n",
              "      <td>27817</td>\n",
              "    </tr>\n",
              "    <tr>\n",
              "      <th>363</th>\n",
              "      <td>31/10/2018</td>\n",
              "      <td>21545</td>\n",
              "    </tr>\n",
              "    <tr>\n",
              "      <th>364</th>\n",
              "      <td>31/12/2017</td>\n",
              "      <td>3423</td>\n",
              "    </tr>\n",
              "  </tbody>\n",
              "</table>\n",
              "<p>365 rows × 2 columns</p>\n",
              "</div>"
            ],
            "text/plain": [
              "           Date  bikeCount\n",
              "0    01/01/2018       4290\n",
              "1    01/02/2018       5377\n",
              "2    01/03/2018       5132\n",
              "3    01/04/2018      17388\n",
              "4    01/05/2018      26820\n",
              "..          ...        ...\n",
              "360  31/05/2018      31681\n",
              "361  31/07/2018      22897\n",
              "362  31/08/2018      27817\n",
              "363  31/10/2018      21545\n",
              "364  31/12/2017       3423\n",
              "\n",
              "[365 rows x 2 columns]"
            ]
          },
          "metadata": {
            "tags": []
          },
          "execution_count": 19
        }
      ]
    },
    {
      "cell_type": "markdown",
      "metadata": {
        "id": "GqEIISbZFtCQ"
      },
      "source": [
        "Rajout de la variable Snowfall"
      ]
    },
    {
      "cell_type": "code",
      "metadata": {
        "id": "wEZophReFq_x",
        "colab": {
          "base_uri": "https://localhost:8080/",
          "height": 419
        },
        "outputId": "86da7d43-868d-49a9-837c-ed3de7f32d6c"
      },
      "source": [
        "snowfall_bike[\"Snowfall\"] = BikeData[BikeData.Hour==12].reset_index().Snowfall\n",
        "snowfall_bike"
      ],
      "execution_count": null,
      "outputs": [
        {
          "output_type": "execute_result",
          "data": {
            "text/html": [
              "<div>\n",
              "<style scoped>\n",
              "    .dataframe tbody tr th:only-of-type {\n",
              "        vertical-align: middle;\n",
              "    }\n",
              "\n",
              "    .dataframe tbody tr th {\n",
              "        vertical-align: top;\n",
              "    }\n",
              "\n",
              "    .dataframe thead th {\n",
              "        text-align: right;\n",
              "    }\n",
              "</style>\n",
              "<table border=\"1\" class=\"dataframe\">\n",
              "  <thead>\n",
              "    <tr style=\"text-align: right;\">\n",
              "      <th></th>\n",
              "      <th>Date</th>\n",
              "      <th>bikeCount</th>\n",
              "      <th>Snowfall</th>\n",
              "    </tr>\n",
              "  </thead>\n",
              "  <tbody>\n",
              "    <tr>\n",
              "      <th>0</th>\n",
              "      <td>01/01/2018</td>\n",
              "      <td>4290</td>\n",
              "      <td>0.0</td>\n",
              "    </tr>\n",
              "    <tr>\n",
              "      <th>1</th>\n",
              "      <td>01/02/2018</td>\n",
              "      <td>5377</td>\n",
              "      <td>0.0</td>\n",
              "    </tr>\n",
              "    <tr>\n",
              "      <th>2</th>\n",
              "      <td>01/03/2018</td>\n",
              "      <td>5132</td>\n",
              "      <td>0.0</td>\n",
              "    </tr>\n",
              "    <tr>\n",
              "      <th>3</th>\n",
              "      <td>01/04/2018</td>\n",
              "      <td>17388</td>\n",
              "      <td>0.0</td>\n",
              "    </tr>\n",
              "    <tr>\n",
              "      <th>4</th>\n",
              "      <td>01/05/2018</td>\n",
              "      <td>26820</td>\n",
              "      <td>0.0</td>\n",
              "    </tr>\n",
              "    <tr>\n",
              "      <th>...</th>\n",
              "      <td>...</td>\n",
              "      <td>...</td>\n",
              "      <td>...</td>\n",
              "    </tr>\n",
              "    <tr>\n",
              "      <th>360</th>\n",
              "      <td>31/05/2018</td>\n",
              "      <td>31681</td>\n",
              "      <td>0.0</td>\n",
              "    </tr>\n",
              "    <tr>\n",
              "      <th>361</th>\n",
              "      <td>31/07/2018</td>\n",
              "      <td>22897</td>\n",
              "      <td>0.0</td>\n",
              "    </tr>\n",
              "    <tr>\n",
              "      <th>362</th>\n",
              "      <td>31/08/2018</td>\n",
              "      <td>27817</td>\n",
              "      <td>0.0</td>\n",
              "    </tr>\n",
              "    <tr>\n",
              "      <th>363</th>\n",
              "      <td>31/10/2018</td>\n",
              "      <td>21545</td>\n",
              "      <td>0.0</td>\n",
              "    </tr>\n",
              "    <tr>\n",
              "      <th>364</th>\n",
              "      <td>31/12/2017</td>\n",
              "      <td>3423</td>\n",
              "      <td>0.0</td>\n",
              "    </tr>\n",
              "  </tbody>\n",
              "</table>\n",
              "<p>365 rows × 3 columns</p>\n",
              "</div>"
            ],
            "text/plain": [
              "           Date  bikeCount  Snowfall\n",
              "0    01/01/2018       4290       0.0\n",
              "1    01/02/2018       5377       0.0\n",
              "2    01/03/2018       5132       0.0\n",
              "3    01/04/2018      17388       0.0\n",
              "4    01/05/2018      26820       0.0\n",
              "..          ...        ...       ...\n",
              "360  31/05/2018      31681       0.0\n",
              "361  31/07/2018      22897       0.0\n",
              "362  31/08/2018      27817       0.0\n",
              "363  31/10/2018      21545       0.0\n",
              "364  31/12/2017       3423       0.0\n",
              "\n",
              "[365 rows x 3 columns]"
            ]
          },
          "metadata": {
            "tags": []
          },
          "execution_count": 20
        }
      ]
    },
    {
      "cell_type": "markdown",
      "metadata": {
        "id": "KZN2BmWGF0xL"
      },
      "source": [
        "Affichage du nombre de location de vélo en fonction de la quantité de neige"
      ]
    },
    {
      "cell_type": "code",
      "metadata": {
        "id": "kAz7hXhnFyWI"
      },
      "source": [
        "snowfall_bikes = BikeData.groupby(\"Snowfall\").bikeCount.sum()/snowfall_bike.bikeCount.sum()\n",
        "snowfall_bikes = snowfall_bikes.reset_index()"
      ],
      "execution_count": null,
      "outputs": []
    },
    {
      "cell_type": "code",
      "metadata": {
        "colab": {
          "base_uri": "https://localhost:8080/",
          "height": 282
        },
        "id": "jmOGlWsknwTx",
        "outputId": "ecd5b4fa-c28b-4fa2-b456-2df14297b733"
      },
      "source": [
        "plt.plot(snowfall_bikes.Snowfall, snowfall_bikes.bikeCount)"
      ],
      "execution_count": null,
      "outputs": [
        {
          "output_type": "execute_result",
          "data": {
            "text/plain": [
              "[<matplotlib.lines.Line2D at 0x7f23a1f77160>]"
            ]
          },
          "metadata": {
            "tags": []
          },
          "execution_count": 22
        },
        {
          "output_type": "display_data",
          "data": {
            "image/png": "[encoded data removed]",
            "text/plain": [
              "<Figure size 432x288 with 1 Axes>"
            ]
          },
          "metadata": {
            "tags": [],
            "needs_background": "light"
          }
        }
      ]
    },
    {
      "cell_type": "code",
      "metadata": {
        "colab": {
          "base_uri": "https://localhost:8080/",
          "height": 285
        },
        "id": "4VH_YzT3ocIM",
        "outputId": "d32b2da0-122b-4ad3-ea3c-4745407d328e"
      },
      "source": [
        "plt.plot(snowfall_bikes.Snowfall.tolist()[1:], snowfall_bikes.bikeCount.tolist()[1:])"
      ],
      "execution_count": null,
      "outputs": [
        {
          "output_type": "execute_result",
          "data": {
            "text/plain": [
              "[<matplotlib.lines.Line2D at 0x7f23a1edc320>]"
            ]
          },
          "metadata": {
            "tags": []
          },
          "execution_count": 23
        },
        {
          "output_type": "display_data",
          "data": {
            "image/png": "[encoded data removed]",
            "text/plain": [
              "<Figure size 432x288 with 1 Axes>"
            ]
          },
          "metadata": {
            "tags": [],
            "needs_background": "light"
          }
        }
      ]
    },
    {
      "cell_type": "markdown",
      "metadata": {
        "id": "8uwMpf4NF6xE"
      },
      "source": [
        "Nous allons en plus créer la variable suivante : True si il y a de la neige et False s'il n'y a pas de neige"
      ]
    },
    {
      "cell_type": "code",
      "metadata": {
        "id": "_Fkl-umjGM2f"
      },
      "source": [
        "BikeData[\"Snowy\"] = BikeData[\"Snowfall\"].apply(lambda x : 1 if x!=0.0 else 0)"
      ],
      "execution_count": null,
      "outputs": []
    },
    {
      "cell_type": "code",
      "metadata": {
        "id": "qeVxHmL6GjPD",
        "colab": {
          "base_uri": "https://localhost:8080/"
        },
        "outputId": "a3ddfb25-bc7a-40da-9188-ff245ee684d6"
      },
      "source": [
        "BikeData.groupby(\"Snowy\").bikeCount.sum()"
      ],
      "execution_count": null,
      "outputs": [
        {
          "output_type": "execute_result",
          "data": {
            "text/plain": [
              "Snowy\n",
              "0    6090314\n",
              "1      82000\n",
              "Name: bikeCount, dtype: int64"
            ]
          },
          "metadata": {
            "tags": []
          },
          "execution_count": 25
        }
      ]
    },
    {
      "cell_type": "markdown",
      "metadata": {
        "id": "QEq12mB6nm5a"
      },
      "source": [
        "## Variable : Rainfall"
      ]
    },
    {
      "cell_type": "code",
      "metadata": {
        "colab": {
          "base_uri": "https://localhost:8080/",
          "height": 419
        },
        "id": "NvSus7J4nbsm",
        "outputId": "2126dd0d-e7d8-4834-df72-264ece554dd6"
      },
      "source": [
        "rainfall_bike = BikeData[[\"Date\",\"bikeCount\"]].groupby(\"Date\").sum().reset_index()\r\n",
        "rainfall_bike = BikeData.groupby(\"Rainfall\").bikeCount.sum()/rainfall_bike.bikeCount.sum()\r\n",
        "rainfall_bike = rainfall_bike.reset_index()\r\n",
        "rainfall_bike"
      ],
      "execution_count": null,
      "outputs": [
        {
          "output_type": "execute_result",
          "data": {
            "text/html": [
              "<div>\n",
              "<style scoped>\n",
              "    .dataframe tbody tr th:only-of-type {\n",
              "        vertical-align: middle;\n",
              "    }\n",
              "\n",
              "    .dataframe tbody tr th {\n",
              "        vertical-align: top;\n",
              "    }\n",
              "\n",
              "    .dataframe thead th {\n",
              "        text-align: right;\n",
              "    }\n",
              "</style>\n",
              "<table border=\"1\" class=\"dataframe\">\n",
              "  <thead>\n",
              "    <tr style=\"text-align: right;\">\n",
              "      <th></th>\n",
              "      <th>Rainfall</th>\n",
              "      <th>bikeCount</th>\n",
              "    </tr>\n",
              "  </thead>\n",
              "  <tbody>\n",
              "    <tr>\n",
              "      <th>0</th>\n",
              "      <td>0.0</td>\n",
              "      <td>0.986017</td>\n",
              "    </tr>\n",
              "    <tr>\n",
              "      <th>1</th>\n",
              "      <td>0.1</td>\n",
              "      <td>0.002459</td>\n",
              "    </tr>\n",
              "    <tr>\n",
              "      <th>2</th>\n",
              "      <td>0.2</td>\n",
              "      <td>0.000600</td>\n",
              "    </tr>\n",
              "    <tr>\n",
              "      <th>3</th>\n",
              "      <td>0.3</td>\n",
              "      <td>0.000227</td>\n",
              "    </tr>\n",
              "    <tr>\n",
              "      <th>4</th>\n",
              "      <td>0.4</td>\n",
              "      <td>0.000348</td>\n",
              "    </tr>\n",
              "    <tr>\n",
              "      <th>...</th>\n",
              "      <td>...</td>\n",
              "      <td>...</td>\n",
              "    </tr>\n",
              "    <tr>\n",
              "      <th>56</th>\n",
              "      <td>21.0</td>\n",
              "      <td>0.000003</td>\n",
              "    </tr>\n",
              "    <tr>\n",
              "      <th>57</th>\n",
              "      <td>21.5</td>\n",
              "      <td>0.000097</td>\n",
              "    </tr>\n",
              "    <tr>\n",
              "      <th>58</th>\n",
              "      <td>24.0</td>\n",
              "      <td>0.000010</td>\n",
              "    </tr>\n",
              "    <tr>\n",
              "      <th>59</th>\n",
              "      <td>29.5</td>\n",
              "      <td>0.000020</td>\n",
              "    </tr>\n",
              "    <tr>\n",
              "      <th>60</th>\n",
              "      <td>35.0</td>\n",
              "      <td>0.000024</td>\n",
              "    </tr>\n",
              "  </tbody>\n",
              "</table>\n",
              "<p>61 rows × 2 columns</p>\n",
              "</div>"
            ],
            "text/plain": [
              "    Rainfall  bikeCount\n",
              "0        0.0   0.986017\n",
              "1        0.1   0.002459\n",
              "2        0.2   0.000600\n",
              "3        0.3   0.000227\n",
              "4        0.4   0.000348\n",
              "..       ...        ...\n",
              "56      21.0   0.000003\n",
              "57      21.5   0.000097\n",
              "58      24.0   0.000010\n",
              "59      29.5   0.000020\n",
              "60      35.0   0.000024\n",
              "\n",
              "[61 rows x 2 columns]"
            ]
          },
          "metadata": {
            "tags": []
          },
          "execution_count": 26
        }
      ]
    },
    {
      "cell_type": "code",
      "metadata": {
        "colab": {
          "base_uri": "https://localhost:8080/",
          "height": 282
        },
        "id": "HavM8GVnpDeg",
        "outputId": "f93aff49-ff61-4832-d9ea-f17693181242"
      },
      "source": [
        "plt.plot(rainfall_bike.Rainfall, rainfall_bike.bikeCount)"
      ],
      "execution_count": null,
      "outputs": [
        {
          "output_type": "execute_result",
          "data": {
            "text/plain": [
              "[<matplotlib.lines.Line2D at 0x7f23a1ebfd30>]"
            ]
          },
          "metadata": {
            "tags": []
          },
          "execution_count": 27
        },
        {
          "output_type": "display_data",
          "data": {
            "image/png": "[encoded data removed]",
            "text/plain": [
              "<Figure size 432x288 with 1 Axes>"
            ]
          },
          "metadata": {
            "tags": [],
            "needs_background": "light"
          }
        }
      ]
    },
    {
      "cell_type": "code",
      "metadata": {
        "colab": {
          "base_uri": "https://localhost:8080/",
          "height": 282
        },
        "id": "WwNH-wvWqMS0",
        "outputId": "50155be9-f7d2-4e2c-bf50-65a4484c0928"
      },
      "source": [
        "plt.plot(rainfall_bike.Rainfall.tolist()[1:], rainfall_bike.bikeCount.tolist()[1:])"
      ],
      "execution_count": null,
      "outputs": [
        {
          "output_type": "execute_result",
          "data": {
            "text/plain": [
              "[<matplotlib.lines.Line2D at 0x7f23a1e28e10>]"
            ]
          },
          "metadata": {
            "tags": []
          },
          "execution_count": 28
        },
        {
          "output_type": "display_data",
          "data": {
            "image/png": "[encoded data removed]",
            "text/plain": [
              "<Figure size 432x288 with 1 Axes>"
            ]
          },
          "metadata": {
            "tags": [],
            "needs_background": "light"
          }
        }
      ]
    },
    {
      "cell_type": "markdown",
      "metadata": {
        "id": "dUB-a4kMqdpL"
      },
      "source": [
        "Nous allons en plus créer la variable suivante : True si il y a de la pluis et False s'il n'y en a pas"
      ]
    },
    {
      "cell_type": "code",
      "metadata": {
        "colab": {
          "base_uri": "https://localhost:8080/"
        },
        "id": "UyKCEG0HqV7Y",
        "outputId": "9a64a6be-0104-41d1-eabf-52d543585987"
      },
      "source": [
        "BikeData[\"Rainy\"] = BikeData[\"Rainfall\"].apply(lambda x : 1 if x!=0.0 else 0)\r\n",
        "BikeData.groupby(\"Rainy\").bikeCount.sum()"
      ],
      "execution_count": null,
      "outputs": [
        {
          "output_type": "execute_result",
          "data": {
            "text/plain": [
              "Rainy\n",
              "0    6086009\n",
              "1      86305\n",
              "Name: bikeCount, dtype: int64"
            ]
          },
          "metadata": {
            "tags": []
          },
          "execution_count": 29
        }
      ]
    },
    {
      "cell_type": "markdown",
      "metadata": {
        "id": "QYKRILoeq_bp"
      },
      "source": [
        "## Variable : Solar Radiation"
      ]
    },
    {
      "cell_type": "code",
      "metadata": {
        "colab": {
          "base_uri": "https://localhost:8080/",
          "height": 419
        },
        "id": "cixusVnsqqX7",
        "outputId": "0824280c-158e-4a92-aa84-bb8ac30d2008"
      },
      "source": [
        "solar_bike = BikeData[[\"Date\",\"bikeCount\"]].groupby(\"Date\").sum().reset_index()\r\n",
        "solar_bike = BikeData.groupby(\"solarRadiation\").bikeCount.sum()/solar_bike.bikeCount.sum()\r\n",
        "solar_bike = solar_bike.reset_index()\r\n",
        "solar_bike"
      ],
      "execution_count": null,
      "outputs": [
        {
          "output_type": "execute_result",
          "data": {
            "text/html": [
              "<div>\n",
              "<style scoped>\n",
              "    .dataframe tbody tr th:only-of-type {\n",
              "        vertical-align: middle;\n",
              "    }\n",
              "\n",
              "    .dataframe tbody tr th {\n",
              "        vertical-align: top;\n",
              "    }\n",
              "\n",
              "    .dataframe thead th {\n",
              "        text-align: right;\n",
              "    }\n",
              "</style>\n",
              "<table border=\"1\" class=\"dataframe\">\n",
              "  <thead>\n",
              "    <tr style=\"text-align: right;\">\n",
              "      <th></th>\n",
              "      <th>solarRadiation</th>\n",
              "      <th>bikeCount</th>\n",
              "    </tr>\n",
              "  </thead>\n",
              "  <tbody>\n",
              "    <tr>\n",
              "      <th>0</th>\n",
              "      <td>0.00</td>\n",
              "      <td>0.339318</td>\n",
              "    </tr>\n",
              "    <tr>\n",
              "      <th>1</th>\n",
              "      <td>0.01</td>\n",
              "      <td>0.016279</td>\n",
              "    </tr>\n",
              "    <tr>\n",
              "      <th>2</th>\n",
              "      <td>0.02</td>\n",
              "      <td>0.010635</td>\n",
              "    </tr>\n",
              "    <tr>\n",
              "      <th>3</th>\n",
              "      <td>0.03</td>\n",
              "      <td>0.009434</td>\n",
              "    </tr>\n",
              "    <tr>\n",
              "      <th>4</th>\n",
              "      <td>0.04</td>\n",
              "      <td>0.005836</td>\n",
              "    </tr>\n",
              "    <tr>\n",
              "      <th>...</th>\n",
              "      <td>...</td>\n",
              "      <td>...</td>\n",
              "    </tr>\n",
              "    <tr>\n",
              "      <th>340</th>\n",
              "      <td>3.42</td>\n",
              "      <td>0.000824</td>\n",
              "    </tr>\n",
              "    <tr>\n",
              "      <th>341</th>\n",
              "      <td>3.44</td>\n",
              "      <td>0.000197</td>\n",
              "    </tr>\n",
              "    <tr>\n",
              "      <th>342</th>\n",
              "      <td>3.45</td>\n",
              "      <td>0.000106</td>\n",
              "    </tr>\n",
              "    <tr>\n",
              "      <th>343</th>\n",
              "      <td>3.49</td>\n",
              "      <td>0.000236</td>\n",
              "    </tr>\n",
              "    <tr>\n",
              "      <th>344</th>\n",
              "      <td>3.52</td>\n",
              "      <td>0.000491</td>\n",
              "    </tr>\n",
              "  </tbody>\n",
              "</table>\n",
              "<p>345 rows × 2 columns</p>\n",
              "</div>"
            ],
            "text/plain": [
              "     solarRadiation  bikeCount\n",
              "0              0.00   0.339318\n",
              "1              0.01   0.016279\n",
              "2              0.02   0.010635\n",
              "3              0.03   0.009434\n",
              "4              0.04   0.005836\n",
              "..              ...        ...\n",
              "340            3.42   0.000824\n",
              "341            3.44   0.000197\n",
              "342            3.45   0.000106\n",
              "343            3.49   0.000236\n",
              "344            3.52   0.000491\n",
              "\n",
              "[345 rows x 2 columns]"
            ]
          },
          "metadata": {
            "tags": []
          },
          "execution_count": 30
        }
      ]
    },
    {
      "cell_type": "code",
      "metadata": {
        "colab": {
          "base_uri": "https://localhost:8080/",
          "height": 283
        },
        "id": "2JrR-crcrp36",
        "outputId": "b19488f4-a9af-46d4-dade-e0090761db8e"
      },
      "source": [
        "plt.plot(solar_bike.solarRadiation, solar_bike.bikeCount)"
      ],
      "execution_count": null,
      "outputs": [
        {
          "output_type": "execute_result",
          "data": {
            "text/plain": [
              "[<matplotlib.lines.Line2D at 0x7f23a1dfd748>]"
            ]
          },
          "metadata": {
            "tags": []
          },
          "execution_count": 31
        },
        {
          "output_type": "display_data",
          "data": {
            "image/png": "[encoded data removed]",
            "text/plain": [
              "<Figure size 432x288 with 1 Axes>"
            ]
          },
          "metadata": {
            "tags": [],
            "needs_background": "light"
          }
        }
      ]
    },
    {
      "cell_type": "code",
      "metadata": {
        "colab": {
          "base_uri": "https://localhost:8080/",
          "height": 282
        },
        "id": "T9C8LTTAr5eh",
        "outputId": "f87153c6-597c-4048-c40d-1abc34b06c95"
      },
      "source": [
        "plt.plot(solar_bike.solarRadiation.tolist()[1:], solar_bike.bikeCount.tolist()[1:])"
      ],
      "execution_count": null,
      "outputs": [
        {
          "output_type": "execute_result",
          "data": {
            "text/plain": [
              "[<matplotlib.lines.Line2D at 0x7f23a1d86550>]"
            ]
          },
          "metadata": {
            "tags": []
          },
          "execution_count": 32
        },
        {
          "output_type": "display_data",
          "data": {
            "image/png": "[encoded data removed]",
            "text/plain": [
              "<Figure size 432x288 with 1 Axes>"
            ]
          },
          "metadata": {
            "tags": [],
            "needs_background": "light"
          }
        }
      ]
    },
    {
      "cell_type": "markdown",
      "metadata": {
        "id": "vIMoK0xZsbfO"
      },
      "source": [
        "Nous allons en plus créer la variable suivante : True si il y a du soleil et False s'il n'y en a pas"
      ]
    },
    {
      "cell_type": "code",
      "metadata": {
        "colab": {
          "base_uri": "https://localhost:8080/"
        },
        "id": "SA3UgIa8sHeo",
        "outputId": "fbc43e4d-0010-4d2e-c36b-d75475f37680"
      },
      "source": [
        "BikeData[\"Sunny\"] = BikeData[\"solarRadiation\"].apply(lambda x : 1 if x!=0.0 else 0)\r\n",
        "BikeData.groupby(\"Sunny\").bikeCount.sum()"
      ],
      "execution_count": null,
      "outputs": [
        {
          "output_type": "execute_result",
          "data": {
            "text/plain": [
              "Sunny\n",
              "0    2094379\n",
              "1    4077935\n",
              "Name: bikeCount, dtype: int64"
            ]
          },
          "metadata": {
            "tags": []
          },
          "execution_count": 33
        }
      ]
    },
    {
      "cell_type": "markdown",
      "metadata": {
        "id": "-d57gp4Otx1X"
      },
      "source": [
        "## Variable : Dew point temperature\n"
      ]
    },
    {
      "cell_type": "code",
      "metadata": {
        "colab": {
          "base_uri": "https://localhost:8080/",
          "height": 419
        },
        "id": "kfUYYGxotyZ0",
        "outputId": "d739a88d-bef0-4568-a677-2cda4952d0f7"
      },
      "source": [
        "dp_bike = BikeData[[\"Date\",\"bikeCount\"]].groupby(\"Date\").sum().reset_index()\r\n",
        "dp_bike = BikeData.groupby(\"dpTemperature\").bikeCount.sum()/dp_bike.bikeCount.sum()\r\n",
        "dp_bike = dp_bike.reset_index()\r\n",
        "dp_bike"
      ],
      "execution_count": null,
      "outputs": [
        {
          "output_type": "execute_result",
          "data": {
            "text/html": [
              "<div>\n",
              "<style scoped>\n",
              "    .dataframe tbody tr th:only-of-type {\n",
              "        vertical-align: middle;\n",
              "    }\n",
              "\n",
              "    .dataframe tbody tr th {\n",
              "        vertical-align: top;\n",
              "    }\n",
              "\n",
              "    .dataframe thead th {\n",
              "        text-align: right;\n",
              "    }\n",
              "</style>\n",
              "<table border=\"1\" class=\"dataframe\">\n",
              "  <thead>\n",
              "    <tr style=\"text-align: right;\">\n",
              "      <th></th>\n",
              "      <th>dpTemperature</th>\n",
              "      <th>bikeCount</th>\n",
              "    </tr>\n",
              "  </thead>\n",
              "  <tbody>\n",
              "    <tr>\n",
              "      <th>0</th>\n",
              "      <td>-30.6</td>\n",
              "      <td>0.000015</td>\n",
              "    </tr>\n",
              "    <tr>\n",
              "      <th>1</th>\n",
              "      <td>-30.5</td>\n",
              "      <td>0.000031</td>\n",
              "    </tr>\n",
              "    <tr>\n",
              "      <th>2</th>\n",
              "      <td>-29.8</td>\n",
              "      <td>0.000059</td>\n",
              "    </tr>\n",
              "    <tr>\n",
              "      <th>3</th>\n",
              "      <td>-29.7</td>\n",
              "      <td>0.000012</td>\n",
              "    </tr>\n",
              "    <tr>\n",
              "      <th>4</th>\n",
              "      <td>-29.6</td>\n",
              "      <td>0.000025</td>\n",
              "    </tr>\n",
              "    <tr>\n",
              "      <th>...</th>\n",
              "      <td>...</td>\n",
              "      <td>...</td>\n",
              "    </tr>\n",
              "    <tr>\n",
              "      <th>551</th>\n",
              "      <td>26.1</td>\n",
              "      <td>0.000453</td>\n",
              "    </tr>\n",
              "    <tr>\n",
              "      <th>552</th>\n",
              "      <td>26.3</td>\n",
              "      <td>0.000076</td>\n",
              "    </tr>\n",
              "    <tr>\n",
              "      <th>553</th>\n",
              "      <td>26.6</td>\n",
              "      <td>0.000050</td>\n",
              "    </tr>\n",
              "    <tr>\n",
              "      <th>554</th>\n",
              "      <td>26.8</td>\n",
              "      <td>0.000247</td>\n",
              "    </tr>\n",
              "    <tr>\n",
              "      <th>555</th>\n",
              "      <td>27.2</td>\n",
              "      <td>0.000181</td>\n",
              "    </tr>\n",
              "  </tbody>\n",
              "</table>\n",
              "<p>556 rows × 2 columns</p>\n",
              "</div>"
            ],
            "text/plain": [
              "     dpTemperature  bikeCount\n",
              "0            -30.6   0.000015\n",
              "1            -30.5   0.000031\n",
              "2            -29.8   0.000059\n",
              "3            -29.7   0.000012\n",
              "4            -29.6   0.000025\n",
              "..             ...        ...\n",
              "551           26.1   0.000453\n",
              "552           26.3   0.000076\n",
              "553           26.6   0.000050\n",
              "554           26.8   0.000247\n",
              "555           27.2   0.000181\n",
              "\n",
              "[556 rows x 2 columns]"
            ]
          },
          "metadata": {
            "tags": []
          },
          "execution_count": 34
        }
      ]
    },
    {
      "cell_type": "code",
      "metadata": {
        "colab": {
          "base_uri": "https://localhost:8080/",
          "height": 282
        },
        "id": "l_c33ECeulBw",
        "outputId": "beb86b5f-ab3f-4d25-c8bf-7da4f37d4142"
      },
      "source": [
        "plt.plot(dp_bike.dpTemperature, dp_bike.bikeCount)"
      ],
      "execution_count": null,
      "outputs": [
        {
          "output_type": "execute_result",
          "data": {
            "text/plain": [
              "[<matplotlib.lines.Line2D at 0x7f23a1ceb898>]"
            ]
          },
          "metadata": {
            "tags": []
          },
          "execution_count": 35
        },
        {
          "output_type": "display_data",
          "data": {
            "image/png": "[encoded data removed]",
            "text/plain": [
              "<Figure size 432x288 with 1 Axes>"
            ]
          },
          "metadata": {
            "tags": [],
            "needs_background": "light"
          }
        }
      ]
    },
    {
      "cell_type": "markdown",
      "metadata": {
        "id": "jw7SLyGqvA7l"
      },
      "source": [
        "Pas de modifications à apporter sur cette variables"
      ]
    },
    {
      "cell_type": "markdown",
      "metadata": {
        "id": "K3seJeLtv3kX"
      },
      "source": [
        "## Variable : Visibility"
      ]
    },
    {
      "cell_type": "code",
      "metadata": {
        "colab": {
          "base_uri": "https://localhost:8080/",
          "height": 419
        },
        "id": "WRriOqqpuuOh",
        "outputId": "39d94590-3189-4406-84cb-a8f316d5b984"
      },
      "source": [
        "vis_bike = BikeData[[\"Date\",\"bikeCount\"]].groupby(\"Date\").sum().reset_index()\r\n",
        "vis_bike = BikeData.groupby(\"Visibility\").bikeCount.sum()/vis_bike.bikeCount.sum()\r\n",
        "vis_bike = vis_bike.reset_index()\r\n",
        "vis_bike"
      ],
      "execution_count": null,
      "outputs": [
        {
          "output_type": "execute_result",
          "data": {
            "text/html": [
              "<div>\n",
              "<style scoped>\n",
              "    .dataframe tbody tr th:only-of-type {\n",
              "        vertical-align: middle;\n",
              "    }\n",
              "\n",
              "    .dataframe tbody tr th {\n",
              "        vertical-align: top;\n",
              "    }\n",
              "\n",
              "    .dataframe thead th {\n",
              "        text-align: right;\n",
              "    }\n",
              "</style>\n",
              "<table border=\"1\" class=\"dataframe\">\n",
              "  <thead>\n",
              "    <tr style=\"text-align: right;\">\n",
              "      <th></th>\n",
              "      <th>Visibility</th>\n",
              "      <th>bikeCount</th>\n",
              "    </tr>\n",
              "  </thead>\n",
              "  <tbody>\n",
              "    <tr>\n",
              "      <th>0</th>\n",
              "      <td>27</td>\n",
              "      <td>0.000013</td>\n",
              "    </tr>\n",
              "    <tr>\n",
              "      <th>1</th>\n",
              "      <td>33</td>\n",
              "      <td>0.000005</td>\n",
              "    </tr>\n",
              "    <tr>\n",
              "      <th>2</th>\n",
              "      <td>34</td>\n",
              "      <td>0.000004</td>\n",
              "    </tr>\n",
              "    <tr>\n",
              "      <th>3</th>\n",
              "      <td>38</td>\n",
              "      <td>0.000016</td>\n",
              "    </tr>\n",
              "    <tr>\n",
              "      <th>4</th>\n",
              "      <td>53</td>\n",
              "      <td>0.000011</td>\n",
              "    </tr>\n",
              "    <tr>\n",
              "      <th>...</th>\n",
              "      <td>...</td>\n",
              "      <td>...</td>\n",
              "    </tr>\n",
              "    <tr>\n",
              "      <th>1784</th>\n",
              "      <td>1996</td>\n",
              "      <td>0.003167</td>\n",
              "    </tr>\n",
              "    <tr>\n",
              "      <th>1785</th>\n",
              "      <td>1997</td>\n",
              "      <td>0.002969</td>\n",
              "    </tr>\n",
              "    <tr>\n",
              "      <th>1786</th>\n",
              "      <td>1998</td>\n",
              "      <td>0.003162</td>\n",
              "    </tr>\n",
              "    <tr>\n",
              "      <th>1787</th>\n",
              "      <td>1999</td>\n",
              "      <td>0.002992</td>\n",
              "    </tr>\n",
              "    <tr>\n",
              "      <th>1788</th>\n",
              "      <td>2000</td>\n",
              "      <td>0.297569</td>\n",
              "    </tr>\n",
              "  </tbody>\n",
              "</table>\n",
              "<p>1789 rows × 2 columns</p>\n",
              "</div>"
            ],
            "text/plain": [
              "      Visibility  bikeCount\n",
              "0             27   0.000013\n",
              "1             33   0.000005\n",
              "2             34   0.000004\n",
              "3             38   0.000016\n",
              "4             53   0.000011\n",
              "...          ...        ...\n",
              "1784        1996   0.003167\n",
              "1785        1997   0.002969\n",
              "1786        1998   0.003162\n",
              "1787        1999   0.002992\n",
              "1788        2000   0.297569\n",
              "\n",
              "[1789 rows x 2 columns]"
            ]
          },
          "metadata": {
            "tags": []
          },
          "execution_count": 36
        }
      ]
    },
    {
      "cell_type": "code",
      "metadata": {
        "colab": {
          "base_uri": "https://localhost:8080/",
          "height": 282
        },
        "id": "vPCv2ETzwXVL",
        "outputId": "0ed1a39e-0a80-49e5-8437-92d511c0c46c"
      },
      "source": [
        "plt.plot(vis_bike.Visibility, vis_bike.bikeCount)"
      ],
      "execution_count": null,
      "outputs": [
        {
          "output_type": "execute_result",
          "data": {
            "text/plain": [
              "[<matplotlib.lines.Line2D at 0x7f23a1c58be0>]"
            ]
          },
          "metadata": {
            "tags": []
          },
          "execution_count": 37
        },
        {
          "output_type": "display_data",
          "data": {
            "image/png": "[encoded data removed]",
            "text/plain": [
              "<Figure size 432x288 with 1 Axes>"
            ]
          },
          "metadata": {
            "tags": [],
            "needs_background": "light"
          }
        }
      ]
    },
    {
      "cell_type": "code",
      "metadata": {
        "colab": {
          "base_uri": "https://localhost:8080/",
          "height": 282
        },
        "id": "TgI6vTlqwjrC",
        "outputId": "b3672fd5-08d8-4e14-bde0-a07c1b795abc"
      },
      "source": [
        "plt.plot(vis_bike.Visibility.tolist()[:-1], vis_bike.bikeCount.tolist()[:-1])"
      ],
      "execution_count": null,
      "outputs": [
        {
          "output_type": "execute_result",
          "data": {
            "text/plain": [
              "[<matplotlib.lines.Line2D at 0x7f23a1bdcb00>]"
            ]
          },
          "metadata": {
            "tags": []
          },
          "execution_count": 38
        },
        {
          "output_type": "display_data",
          "data": {
            "image/png": "[encoded data removed]",
            "text/plain": [
              "<Figure size 432x288 with 1 Axes>"
            ]
          },
          "metadata": {
            "tags": [],
            "needs_background": "light"
          }
        }
      ]
    },
    {
      "cell_type": "markdown",
      "metadata": {
        "id": "cIxCpLU6xBqo"
      },
      "source": [
        "Nous allons en plus créer la variable suivante : True si la visibilité est maximum et False si non"
      ]
    },
    {
      "cell_type": "code",
      "metadata": {
        "colab": {
          "base_uri": "https://localhost:8080/"
        },
        "id": "8wUVTovSw7tZ",
        "outputId": "e825b64d-97b3-41dc-ac5b-a5bbfc272d22"
      },
      "source": [
        "BikeData[\"VisMax\"] = BikeData[\"Visibility\"].apply(lambda x : 1 if x!=2000 else 0)\r\n",
        "BikeData.groupby(\"VisMax\").bikeCount.sum()"
      ],
      "execution_count": null,
      "outputs": [
        {
          "output_type": "execute_result",
          "data": {
            "text/plain": [
              "VisMax\n",
              "0    1836690\n",
              "1    4335624\n",
              "Name: bikeCount, dtype: int64"
            ]
          },
          "metadata": {
            "tags": []
          },
          "execution_count": 39
        }
      ]
    },
    {
      "cell_type": "markdown",
      "metadata": {
        "id": "jaIaTvkzyAvi"
      },
      "source": [
        "## Variable : Wind Speed"
      ]
    },
    {
      "cell_type": "code",
      "metadata": {
        "colab": {
          "base_uri": "https://localhost:8080/"
        },
        "id": "vW4YDyDWxSr_",
        "outputId": "98873786-dfa2-40fa-f4f8-fd9463aff689"
      },
      "source": [
        "ws_bike = BikeData[[\"Date\",\"bikeCount\"]].groupby(\"Date\").sum().reset_index()\r\n",
        "ws_bike = BikeData.groupby(\"windSpeed\").bikeCount.sum()/ws_bike.bikeCount.sum()\r\n",
        "ws_bike = ws_bike.reset_index()\r\n",
        "ws_bike"
      ],
      "execution_count": null,
      "outputs": [
        {
          "output_type": "execute_result",
          "data": {
            "text/html": [
              "<div>\n",
              "<style scoped>\n",
              "    .dataframe tbody tr th:only-of-type {\n",
              "        vertical-align: middle;\n",
              "    }\n",
              "\n",
              "    .dataframe tbody tr th {\n",
              "        vertical-align: top;\n",
              "    }\n",
              "\n",
              "    .dataframe thead th {\n",
              "        text-align: right;\n",
              "    }\n",
              "</style>\n",
              "<table border=\"1\" class=\"dataframe\">\n",
              "  <thead>\n",
              "    <tr style=\"text-align: right;\">\n",
              "      <th></th>\n",
              "      <th>windSpeed</th>\n",
              "      <th>bikeCount</th>\n",
              "    </tr>\n",
              "  </thead>\n",
              "  <tbody>\n",
              "    <tr>\n",
              "      <th>0</th>\n",
              "      <td>0.0</td>\n",
              "      <td>0.005371</td>\n",
              "    </tr>\n",
              "    <tr>\n",
              "      <th>1</th>\n",
              "      <td>0.1</td>\n",
              "      <td>0.004692</td>\n",
              "    </tr>\n",
              "    <tr>\n",
              "      <th>2</th>\n",
              "      <td>0.2</td>\n",
              "      <td>0.006939</td>\n",
              "    </tr>\n",
              "    <tr>\n",
              "      <th>3</th>\n",
              "      <td>0.3</td>\n",
              "      <td>0.011644</td>\n",
              "    </tr>\n",
              "    <tr>\n",
              "      <th>4</th>\n",
              "      <td>0.4</td>\n",
              "      <td>0.014185</td>\n",
              "    </tr>\n",
              "    <tr>\n",
              "      <th>...</th>\n",
              "      <td>...</td>\n",
              "      <td>...</td>\n",
              "    </tr>\n",
              "    <tr>\n",
              "      <th>60</th>\n",
              "      <td>6.7</td>\n",
              "      <td>0.000024</td>\n",
              "    </tr>\n",
              "    <tr>\n",
              "      <th>61</th>\n",
              "      <td>6.9</td>\n",
              "      <td>0.000008</td>\n",
              "    </tr>\n",
              "    <tr>\n",
              "      <th>62</th>\n",
              "      <td>7.2</td>\n",
              "      <td>0.000292</td>\n",
              "    </tr>\n",
              "    <tr>\n",
              "      <th>63</th>\n",
              "      <td>7.3</td>\n",
              "      <td>0.000022</td>\n",
              "    </tr>\n",
              "    <tr>\n",
              "      <th>64</th>\n",
              "      <td>7.4</td>\n",
              "      <td>0.000148</td>\n",
              "    </tr>\n",
              "  </tbody>\n",
              "</table>\n",
              "<p>65 rows × 2 columns</p>\n",
              "</div>"
            ],
            "text/plain": [
              "    windSpeed  bikeCount\n",
              "0         0.0   0.005371\n",
              "1         0.1   0.004692\n",
              "2         0.2   0.006939\n",
              "3         0.3   0.011644\n",
              "4         0.4   0.014185\n",
              "..        ...        ...\n",
              "60        6.7   0.000024\n",
              "61        6.9   0.000008\n",
              "62        7.2   0.000292\n",
              "63        7.3   0.000022\n",
              "64        7.4   0.000148\n",
              "\n",
              "[65 rows x 2 columns]"
            ]
          },
          "metadata": {
            "tags": []
          },
          "execution_count": 40
        }
      ]
    },
    {
      "cell_type": "code",
      "metadata": {
        "colab": {
          "base_uri": "https://localhost:8080/"
        },
        "id": "jhoyYBDDyXI2",
        "outputId": "2f2715c8-10a3-4b56-9138-92b328d8e453"
      },
      "source": [
        "plt.plot(ws_bike.windSpeed, ws_bike.bikeCount)"
      ],
      "execution_count": null,
      "outputs": [
        {
          "output_type": "execute_result",
          "data": {
            "text/plain": [
              "[<matplotlib.lines.Line2D at 0x7f23a1bc3b00>]"
            ]
          },
          "metadata": {
            "tags": []
          },
          "execution_count": 41
        },
        {
          "output_type": "display_data",
          "data": {
            "image/png": "[encoded data removed]",
            "text/plain": [
              "<Figure size 432x288 with 1 Axes>"
            ]
          },
          "metadata": {
            "tags": [],
            "needs_background": "light"
          }
        }
      ]
    },
    {
      "cell_type": "markdown",
      "metadata": {
        "id": "RH7wbd80yyzf"
      },
      "source": [
        "Pas de modifications à apporter sur cette variable"
      ]
    },
    {
      "cell_type": "markdown",
      "metadata": {
        "id": "sntehoClyzMn"
      },
      "source": [
        "## Variable : Humidity"
      ]
    },
    {
      "cell_type": "code",
      "metadata": {
        "colab": {
          "base_uri": "https://localhost:8080/"
        },
        "id": "HWvaQ7sVyxHf",
        "outputId": "e51b0568-cedf-45a4-dc50-680623c72d36"
      },
      "source": [
        "hu_bike = BikeData[[\"Date\",\"bikeCount\"]].groupby(\"Date\").sum().reset_index()\r\n",
        "hu_bike = BikeData.groupby(\"Humidity\").bikeCount.sum()/hu_bike.bikeCount.sum()\r\n",
        "hu_bike = hu_bike.reset_index()\r\n",
        "hu_bike"
      ],
      "execution_count": null,
      "outputs": [
        {
          "output_type": "execute_result",
          "data": {
            "text/html": [
              "<div>\n",
              "<style scoped>\n",
              "    .dataframe tbody tr th:only-of-type {\n",
              "        vertical-align: middle;\n",
              "    }\n",
              "\n",
              "    .dataframe tbody tr th {\n",
              "        vertical-align: top;\n",
              "    }\n",
              "\n",
              "    .dataframe thead th {\n",
              "        text-align: right;\n",
              "    }\n",
              "</style>\n",
              "<table border=\"1\" class=\"dataframe\">\n",
              "  <thead>\n",
              "    <tr style=\"text-align: right;\">\n",
              "      <th></th>\n",
              "      <th>Humidity</th>\n",
              "      <th>bikeCount</th>\n",
              "    </tr>\n",
              "  </thead>\n",
              "  <tbody>\n",
              "    <tr>\n",
              "      <th>0</th>\n",
              "      <td>0</td>\n",
              "      <td>0.001123</td>\n",
              "    </tr>\n",
              "    <tr>\n",
              "      <th>1</th>\n",
              "      <td>10</td>\n",
              "      <td>0.000213</td>\n",
              "    </tr>\n",
              "    <tr>\n",
              "      <th>2</th>\n",
              "      <td>11</td>\n",
              "      <td>0.000322</td>\n",
              "    </tr>\n",
              "    <tr>\n",
              "      <th>3</th>\n",
              "      <td>12</td>\n",
              "      <td>0.000329</td>\n",
              "    </tr>\n",
              "    <tr>\n",
              "      <th>4</th>\n",
              "      <td>13</td>\n",
              "      <td>0.000705</td>\n",
              "    </tr>\n",
              "    <tr>\n",
              "      <th>...</th>\n",
              "      <td>...</td>\n",
              "      <td>...</td>\n",
              "    </tr>\n",
              "    <tr>\n",
              "      <th>85</th>\n",
              "      <td>94</td>\n",
              "      <td>0.002215</td>\n",
              "    </tr>\n",
              "    <tr>\n",
              "      <th>86</th>\n",
              "      <td>95</td>\n",
              "      <td>0.001968</td>\n",
              "    </tr>\n",
              "    <tr>\n",
              "      <th>87</th>\n",
              "      <td>96</td>\n",
              "      <td>0.003072</td>\n",
              "    </tr>\n",
              "    <tr>\n",
              "      <th>88</th>\n",
              "      <td>97</td>\n",
              "      <td>0.004655</td>\n",
              "    </tr>\n",
              "    <tr>\n",
              "      <th>89</th>\n",
              "      <td>98</td>\n",
              "      <td>0.001396</td>\n",
              "    </tr>\n",
              "  </tbody>\n",
              "</table>\n",
              "<p>90 rows × 2 columns</p>\n",
              "</div>"
            ],
            "text/plain": [
              "    Humidity  bikeCount\n",
              "0          0   0.001123\n",
              "1         10   0.000213\n",
              "2         11   0.000322\n",
              "3         12   0.000329\n",
              "4         13   0.000705\n",
              "..       ...        ...\n",
              "85        94   0.002215\n",
              "86        95   0.001968\n",
              "87        96   0.003072\n",
              "88        97   0.004655\n",
              "89        98   0.001396\n",
              "\n",
              "[90 rows x 2 columns]"
            ]
          },
          "metadata": {
            "tags": []
          },
          "execution_count": 42
        }
      ]
    },
    {
      "cell_type": "code",
      "metadata": {
        "colab": {
          "base_uri": "https://localhost:8080/"
        },
        "id": "B7MJvhIfzc46",
        "outputId": "d64269d5-9772-4ab8-d251-7cf8825232ce"
      },
      "source": [
        "plt.plot(hu_bike.Humidity, hu_bike.bikeCount)"
      ],
      "execution_count": null,
      "outputs": [
        {
          "output_type": "execute_result",
          "data": {
            "text/plain": [
              "[<matplotlib.lines.Line2D at 0x7f23a1b1ba58>]"
            ]
          },
          "metadata": {
            "tags": []
          },
          "execution_count": 43
        },
        {
          "output_type": "display_data",
          "data": {
            "image/png": "[encoded data removed]",
            "text/plain": [
              "<Figure size 432x288 with 1 Axes>"
            ]
          },
          "metadata": {
            "tags": [],
            "needs_background": "light"
          }
        }
      ]
    },
    {
      "cell_type": "markdown",
      "metadata": {
        "id": "eE6nnMEazxMQ"
      },
      "source": [
        "Pas de modifications à apporter sur cette variable"
      ]
    },
    {
      "cell_type": "markdown",
      "metadata": {
        "id": "ea_rQhi6zIq4"
      },
      "source": [
        "## Variable : Temperature"
      ]
    },
    {
      "cell_type": "code",
      "metadata": {
        "colab": {
          "base_uri": "https://localhost:8080/"
        },
        "id": "09J1h-XZzLpw",
        "outputId": "bfdbb4e2-0a46-4c8f-c326-298c0079f8b1"
      },
      "source": [
        "tmp_bike = BikeData[[\"Date\",\"bikeCount\"]].groupby(\"Date\").sum().reset_index()\r\n",
        "tmp_bike = BikeData.groupby(\"Temperature\").bikeCount.sum()/tmp_bike.bikeCount.sum()\r\n",
        "tmp_bike = tmp_bike.reset_index()\r\n",
        "tmp_bike"
      ],
      "execution_count": null,
      "outputs": [
        {
          "output_type": "execute_result",
          "data": {
            "text/html": [
              "<div>\n",
              "<style scoped>\n",
              "    .dataframe tbody tr th:only-of-type {\n",
              "        vertical-align: middle;\n",
              "    }\n",
              "\n",
              "    .dataframe tbody tr th {\n",
              "        vertical-align: top;\n",
              "    }\n",
              "\n",
              "    .dataframe thead th {\n",
              "        text-align: right;\n",
              "    }\n",
              "</style>\n",
              "<table border=\"1\" class=\"dataframe\">\n",
              "  <thead>\n",
              "    <tr style=\"text-align: right;\">\n",
              "      <th></th>\n",
              "      <th>Temperature</th>\n",
              "      <th>bikeCount</th>\n",
              "    </tr>\n",
              "  </thead>\n",
              "  <tbody>\n",
              "    <tr>\n",
              "      <th>0</th>\n",
              "      <td>-17.8</td>\n",
              "      <td>0.000052</td>\n",
              "    </tr>\n",
              "    <tr>\n",
              "      <th>1</th>\n",
              "      <td>-17.5</td>\n",
              "      <td>0.000047</td>\n",
              "    </tr>\n",
              "    <tr>\n",
              "      <th>2</th>\n",
              "      <td>-17.4</td>\n",
              "      <td>0.000010</td>\n",
              "    </tr>\n",
              "    <tr>\n",
              "      <th>3</th>\n",
              "      <td>-16.9</td>\n",
              "      <td>0.000006</td>\n",
              "    </tr>\n",
              "    <tr>\n",
              "      <th>4</th>\n",
              "      <td>-16.5</td>\n",
              "      <td>0.000016</td>\n",
              "    </tr>\n",
              "    <tr>\n",
              "      <th>...</th>\n",
              "      <td>...</td>\n",
              "      <td>...</td>\n",
              "    </tr>\n",
              "    <tr>\n",
              "      <th>541</th>\n",
              "      <td>38.0</td>\n",
              "      <td>0.000192</td>\n",
              "    </tr>\n",
              "    <tr>\n",
              "      <th>542</th>\n",
              "      <td>38.7</td>\n",
              "      <td>0.000077</td>\n",
              "    </tr>\n",
              "    <tr>\n",
              "      <th>543</th>\n",
              "      <td>39.0</td>\n",
              "      <td>0.000167</td>\n",
              "    </tr>\n",
              "    <tr>\n",
              "      <th>544</th>\n",
              "      <td>39.3</td>\n",
              "      <td>0.000086</td>\n",
              "    </tr>\n",
              "    <tr>\n",
              "      <th>545</th>\n",
              "      <td>39.4</td>\n",
              "      <td>0.000091</td>\n",
              "    </tr>\n",
              "  </tbody>\n",
              "</table>\n",
              "<p>546 rows × 2 columns</p>\n",
              "</div>"
            ],
            "text/plain": [
              "     Temperature  bikeCount\n",
              "0          -17.8   0.000052\n",
              "1          -17.5   0.000047\n",
              "2          -17.4   0.000010\n",
              "3          -16.9   0.000006\n",
              "4          -16.5   0.000016\n",
              "..           ...        ...\n",
              "541         38.0   0.000192\n",
              "542         38.7   0.000077\n",
              "543         39.0   0.000167\n",
              "544         39.3   0.000086\n",
              "545         39.4   0.000091\n",
              "\n",
              "[546 rows x 2 columns]"
            ]
          },
          "metadata": {
            "tags": []
          },
          "execution_count": 44
        }
      ]
    },
    {
      "cell_type": "code",
      "metadata": {
        "colab": {
          "base_uri": "https://localhost:8080/"
        },
        "id": "4Z0_amNW0C8M",
        "outputId": "39bfdcd3-bcda-4f80-d100-662f10198e02"
      },
      "source": [
        "plt.plot(tmp_bike.Temperature, tmp_bike.bikeCount)"
      ],
      "execution_count": null,
      "outputs": [
        {
          "output_type": "execute_result",
          "data": {
            "text/plain": [
              "[<matplotlib.lines.Line2D at 0x7f23a1f28f98>]"
            ]
          },
          "metadata": {
            "tags": []
          },
          "execution_count": 45
        },
        {
          "output_type": "display_data",
          "data": {
            "image/png": "[encoded data removed]",
            "text/plain": [
              "<Figure size 432x288 with 1 Axes>"
            ]
          },
          "metadata": {
            "tags": [],
            "needs_background": "light"
          }
        }
      ]
    },
    {
      "cell_type": "markdown",
      "metadata": {
        "id": "DZL1ZXEY0N2_"
      },
      "source": [
        "Pas de modifications à apporter sur cette variable\r\n",
        "\r\n"
      ]
    },
    {
      "cell_type": "markdown",
      "metadata": {
        "id": "a_K-Sg-3zM6_"
      },
      "source": [
        "## Variable : Hour"
      ]
    },
    {
      "cell_type": "code",
      "metadata": {
        "colab": {
          "base_uri": "https://localhost:8080/"
        },
        "id": "czuudxIZzPgF",
        "outputId": "adfb3660-284d-4abc-cc43-50c2a532b21e"
      },
      "source": [
        "hr_bike = BikeData[[\"Hour\",\"bikeCount\"]].groupby(\"Hour\").sum().reset_index()\r\n",
        "hr_bike[\"bikeCount\"] = hr_bike[\"bikeCount\"] /BikeData.bikeCount.sum()\r\n",
        "hr_bike = hr_bike.reset_index()\r\n",
        "hr_bike"
      ],
      "execution_count": null,
      "outputs": [
        {
          "output_type": "execute_result",
          "data": {
            "text/html": [
              "<div>\n",
              "<style scoped>\n",
              "    .dataframe tbody tr th:only-of-type {\n",
              "        vertical-align: middle;\n",
              "    }\n",
              "\n",
              "    .dataframe tbody tr th {\n",
              "        vertical-align: top;\n",
              "    }\n",
              "\n",
              "    .dataframe thead th {\n",
              "        text-align: right;\n",
              "    }\n",
              "</style>\n",
              "<table border=\"1\" class=\"dataframe\">\n",
              "  <thead>\n",
              "    <tr style=\"text-align: right;\">\n",
              "      <th></th>\n",
              "      <th>index</th>\n",
              "      <th>Hour</th>\n",
              "      <th>bikeCount</th>\n",
              "    </tr>\n",
              "  </thead>\n",
              "  <tbody>\n",
              "    <tr>\n",
              "      <th>0</th>\n",
              "      <td>0</td>\n",
              "      <td>0</td>\n",
              "      <td>0.032019</td>\n",
              "    </tr>\n",
              "    <tr>\n",
              "      <th>1</th>\n",
              "      <td>1</td>\n",
              "      <td>1</td>\n",
              "      <td>0.025202</td>\n",
              "    </tr>\n",
              "    <tr>\n",
              "      <th>2</th>\n",
              "      <td>2</td>\n",
              "      <td>2</td>\n",
              "      <td>0.017837</td>\n",
              "    </tr>\n",
              "    <tr>\n",
              "      <th>3</th>\n",
              "      <td>3</td>\n",
              "      <td>3</td>\n",
              "      <td>0.012024</td>\n",
              "    </tr>\n",
              "    <tr>\n",
              "      <th>4</th>\n",
              "      <td>4</td>\n",
              "      <td>4</td>\n",
              "      <td>0.007841</td>\n",
              "    </tr>\n",
              "    <tr>\n",
              "      <th>5</th>\n",
              "      <td>5</td>\n",
              "      <td>5</td>\n",
              "      <td>0.008225</td>\n",
              "    </tr>\n",
              "    <tr>\n",
              "      <th>6</th>\n",
              "      <td>6</td>\n",
              "      <td>6</td>\n",
              "      <td>0.017005</td>\n",
              "    </tr>\n",
              "    <tr>\n",
              "      <th>7</th>\n",
              "      <td>7</td>\n",
              "      <td>7</td>\n",
              "      <td>0.035836</td>\n",
              "    </tr>\n",
              "    <tr>\n",
              "      <th>8</th>\n",
              "      <td>8</td>\n",
              "      <td>8</td>\n",
              "      <td>0.060064</td>\n",
              "    </tr>\n",
              "    <tr>\n",
              "      <th>9</th>\n",
              "      <td>9</td>\n",
              "      <td>9</td>\n",
              "      <td>0.038200</td>\n",
              "    </tr>\n",
              "    <tr>\n",
              "      <th>10</th>\n",
              "      <td>10</td>\n",
              "      <td>10</td>\n",
              "      <td>0.031213</td>\n",
              "    </tr>\n",
              "    <tr>\n",
              "      <th>11</th>\n",
              "      <td>11</td>\n",
              "      <td>11</td>\n",
              "      <td>0.035531</td>\n",
              "    </tr>\n",
              "    <tr>\n",
              "      <th>12</th>\n",
              "      <td>12</td>\n",
              "      <td>12</td>\n",
              "      <td>0.041361</td>\n",
              "    </tr>\n",
              "    <tr>\n",
              "      <th>13</th>\n",
              "      <td>13</td>\n",
              "      <td>13</td>\n",
              "      <td>0.043361</td>\n",
              "    </tr>\n",
              "    <tr>\n",
              "      <th>14</th>\n",
              "      <td>14</td>\n",
              "      <td>14</td>\n",
              "      <td>0.044873</td>\n",
              "    </tr>\n",
              "    <tr>\n",
              "      <th>15</th>\n",
              "      <td>15</td>\n",
              "      <td>15</td>\n",
              "      <td>0.049034</td>\n",
              "    </tr>\n",
              "    <tr>\n",
              "      <th>16</th>\n",
              "      <td>16</td>\n",
              "      <td>16</td>\n",
              "      <td>0.055032</td>\n",
              "    </tr>\n",
              "    <tr>\n",
              "      <th>17</th>\n",
              "      <td>17</td>\n",
              "      <td>17</td>\n",
              "      <td>0.067326</td>\n",
              "    </tr>\n",
              "    <tr>\n",
              "      <th>18</th>\n",
              "      <td>18</td>\n",
              "      <td>18</td>\n",
              "      <td>0.088876</td>\n",
              "    </tr>\n",
              "    <tr>\n",
              "      <th>19</th>\n",
              "      <td>19</td>\n",
              "      <td>19</td>\n",
              "      <td>0.070675</td>\n",
              "    </tr>\n",
              "    <tr>\n",
              "      <th>20</th>\n",
              "      <td>20</td>\n",
              "      <td>20</td>\n",
              "      <td>0.063213</td>\n",
              "    </tr>\n",
              "    <tr>\n",
              "      <th>21</th>\n",
              "      <td>21</td>\n",
              "      <td>21</td>\n",
              "      <td>0.060995</td>\n",
              "    </tr>\n",
              "    <tr>\n",
              "      <th>22</th>\n",
              "      <td>22</td>\n",
              "      <td>22</td>\n",
              "      <td>0.054570</td>\n",
              "    </tr>\n",
              "    <tr>\n",
              "      <th>23</th>\n",
              "      <td>23</td>\n",
              "      <td>23</td>\n",
              "      <td>0.039687</td>\n",
              "    </tr>\n",
              "  </tbody>\n",
              "</table>\n",
              "</div>"
            ],
            "text/plain": [
              "    index  Hour  bikeCount\n",
              "0       0     0   0.032019\n",
              "1       1     1   0.025202\n",
              "2       2     2   0.017837\n",
              "3       3     3   0.012024\n",
              "4       4     4   0.007841\n",
              "5       5     5   0.008225\n",
              "6       6     6   0.017005\n",
              "7       7     7   0.035836\n",
              "8       8     8   0.060064\n",
              "9       9     9   0.038200\n",
              "10     10    10   0.031213\n",
              "11     11    11   0.035531\n",
              "12     12    12   0.041361\n",
              "13     13    13   0.043361\n",
              "14     14    14   0.044873\n",
              "15     15    15   0.049034\n",
              "16     16    16   0.055032\n",
              "17     17    17   0.067326\n",
              "18     18    18   0.088876\n",
              "19     19    19   0.070675\n",
              "20     20    20   0.063213\n",
              "21     21    21   0.060995\n",
              "22     22    22   0.054570\n",
              "23     23    23   0.039687"
            ]
          },
          "metadata": {
            "tags": []
          },
          "execution_count": 46
        }
      ]
    },
    {
      "cell_type": "code",
      "metadata": {
        "colab": {
          "base_uri": "https://localhost:8080/"
        },
        "id": "Gsdd2kwM0f4h",
        "outputId": "e7e71e88-0cf9-4c0d-ebe1-64126e466b34"
      },
      "source": [
        "plt.bar(hr_bike.Hour,hr_bike.bikeCount)"
      ],
      "execution_count": null,
      "outputs": [
        {
          "output_type": "execute_result",
          "data": {
            "text/plain": [
              "<BarContainer object of 24 artists>"
            ]
          },
          "metadata": {
            "tags": []
          },
          "execution_count": 47
        },
        {
          "output_type": "display_data",
          "data": {
            "image/png": "[encoded data removed]",
            "text/plain": [
              "<Figure size 432x288 with 1 Axes>"
            ]
          },
          "metadata": {
            "tags": [],
            "needs_background": "light"
          }
        }
      ]
    },
    {
      "cell_type": "markdown",
      "metadata": {
        "id": "Nm2Ag4tQ1bJS"
      },
      "source": [
        "## Variable : Date"
      ]
    },
    {
      "cell_type": "markdown",
      "metadata": {
        "id": "O5_7plWh1dQz"
      },
      "source": [
        "From the date we extract the day of the week and the month"
      ]
    },
    {
      "cell_type": "code",
      "metadata": {
        "colab": {
          "base_uri": "https://localhost:8080/"
        },
        "id": "luKbhf2A1GuD",
        "outputId": "644347a2-a7d5-4507-f0d9-daa93361dde6"
      },
      "source": [
        "BikeData[\"Month\"] = BikeData[\"Date\"].apply(lambda x : x[3:5])\r\n",
        "BikeData.groupby(\"Month\").bikeCount.sum()"
      ],
      "execution_count": null,
      "outputs": [
        {
          "output_type": "execute_result",
          "data": {
            "text/plain": [
              "Month\n",
              "01    150006\n",
              "02    151833\n",
              "03    380594\n",
              "04    524227\n",
              "05    707088\n",
              "06    896887\n",
              "07    734460\n",
              "08    651887\n",
              "09    673612\n",
              "10    650675\n",
              "11    465715\n",
              "12    185330\n",
              "Name: bikeCount, dtype: int64"
            ]
          },
          "metadata": {
            "tags": []
          },
          "execution_count": 48
        }
      ]
    },
    {
      "cell_type": "code",
      "metadata": {
        "id": "WdqNBCvb17Hh"
      },
      "source": [
        "#BikeData[\"Day\"] = BikeData[\"Date\"].apply(lambda x : pd.to_datetime(x, format=\"%d/%m/%Y\").day_name() )\r\n",
        "#BikeData.groupby(\"Day\").bikeCount.sum()"
      ],
      "execution_count": null,
      "outputs": []
    },
    {
      "cell_type": "markdown",
      "metadata": {
        "id": "H2S9mgdp20lq"
      },
      "source": [
        "## Conclusion étude des variables"
      ]
    },
    {
      "cell_type": "code",
      "metadata": {
        "colab": {
          "base_uri": "https://localhost:8080/"
        },
        "id": "nN8-UPlr2SlG",
        "outputId": "745c3ecf-5a30-4723-8c6d-d5ba867b3649"
      },
      "source": [
        "BikeData"
      ],
      "execution_count": null,
      "outputs": [
        {
          "output_type": "execute_result",
          "data": {
            "text/html": [
              "<div>\n",
              "<style scoped>\n",
              "    .dataframe tbody tr th:only-of-type {\n",
              "        vertical-align: middle;\n",
              "    }\n",
              "\n",
              "    .dataframe tbody tr th {\n",
              "        vertical-align: top;\n",
              "    }\n",
              "\n",
              "    .dataframe thead th {\n",
              "        text-align: right;\n",
              "    }\n",
              "</style>\n",
              "<table border=\"1\" class=\"dataframe\">\n",
              "  <thead>\n",
              "    <tr style=\"text-align: right;\">\n",
              "      <th></th>\n",
              "      <th>Date</th>\n",
              "      <th>bikeCount</th>\n",
              "      <th>Hour</th>\n",
              "      <th>Temperature</th>\n",
              "      <th>Humidity</th>\n",
              "      <th>windSpeed</th>\n",
              "      <th>Visibility</th>\n",
              "      <th>dpTemperature</th>\n",
              "      <th>solarRadiation</th>\n",
              "      <th>Rainfall</th>\n",
              "      <th>Snowfall</th>\n",
              "      <th>Seasons</th>\n",
              "      <th>Holiday</th>\n",
              "      <th>functioningDay</th>\n",
              "      <th>Snowy</th>\n",
              "      <th>Rainy</th>\n",
              "      <th>Sunny</th>\n",
              "      <th>VisMax</th>\n",
              "      <th>Month</th>\n",
              "    </tr>\n",
              "  </thead>\n",
              "  <tbody>\n",
              "    <tr>\n",
              "      <th>0</th>\n",
              "      <td>01/12/2017</td>\n",
              "      <td>254</td>\n",
              "      <td>0</td>\n",
              "      <td>-5.2</td>\n",
              "      <td>37</td>\n",
              "      <td>2.2</td>\n",
              "      <td>2000</td>\n",
              "      <td>-17.6</td>\n",
              "      <td>0.0</td>\n",
              "      <td>0.0</td>\n",
              "      <td>0.0</td>\n",
              "      <td>0</td>\n",
              "      <td>0</td>\n",
              "      <td>1</td>\n",
              "      <td>0</td>\n",
              "      <td>0</td>\n",
              "      <td>0</td>\n",
              "      <td>0</td>\n",
              "      <td>12</td>\n",
              "    </tr>\n",
              "    <tr>\n",
              "      <th>1</th>\n",
              "      <td>01/12/2017</td>\n",
              "      <td>204</td>\n",
              "      <td>1</td>\n",
              "      <td>-5.5</td>\n",
              "      <td>38</td>\n",
              "      <td>0.8</td>\n",
              "      <td>2000</td>\n",
              "      <td>-17.6</td>\n",
              "      <td>0.0</td>\n",
              "      <td>0.0</td>\n",
              "      <td>0.0</td>\n",
              "      <td>0</td>\n",
              "      <td>0</td>\n",
              "      <td>1</td>\n",
              "      <td>0</td>\n",
              "      <td>0</td>\n",
              "      <td>0</td>\n",
              "      <td>0</td>\n",
              "      <td>12</td>\n",
              "    </tr>\n",
              "    <tr>\n",
              "      <th>2</th>\n",
              "      <td>01/12/2017</td>\n",
              "      <td>173</td>\n",
              "      <td>2</td>\n",
              "      <td>-6.0</td>\n",
              "      <td>39</td>\n",
              "      <td>1.0</td>\n",
              "      <td>2000</td>\n",
              "      <td>-17.7</td>\n",
              "      <td>0.0</td>\n",
              "      <td>0.0</td>\n",
              "      <td>0.0</td>\n",
              "      <td>0</td>\n",
              "      <td>0</td>\n",
              "      <td>1</td>\n",
              "      <td>0</td>\n",
              "      <td>0</td>\n",
              "      <td>0</td>\n",
              "      <td>0</td>\n",
              "      <td>12</td>\n",
              "    </tr>\n",
              "    <tr>\n",
              "      <th>3</th>\n",
              "      <td>01/12/2017</td>\n",
              "      <td>107</td>\n",
              "      <td>3</td>\n",
              "      <td>-6.2</td>\n",
              "      <td>40</td>\n",
              "      <td>0.9</td>\n",
              "      <td>2000</td>\n",
              "      <td>-17.6</td>\n",
              "      <td>0.0</td>\n",
              "      <td>0.0</td>\n",
              "      <td>0.0</td>\n",
              "      <td>0</td>\n",
              "      <td>0</td>\n",
              "      <td>1</td>\n",
              "      <td>0</td>\n",
              "      <td>0</td>\n",
              "      <td>0</td>\n",
              "      <td>0</td>\n",
              "      <td>12</td>\n",
              "    </tr>\n",
              "    <tr>\n",
              "      <th>4</th>\n",
              "      <td>01/12/2017</td>\n",
              "      <td>78</td>\n",
              "      <td>4</td>\n",
              "      <td>-6.0</td>\n",
              "      <td>36</td>\n",
              "      <td>2.3</td>\n",
              "      <td>2000</td>\n",
              "      <td>-18.6</td>\n",
              "      <td>0.0</td>\n",
              "      <td>0.0</td>\n",
              "      <td>0.0</td>\n",
              "      <td>0</td>\n",
              "      <td>0</td>\n",
              "      <td>1</td>\n",
              "      <td>0</td>\n",
              "      <td>0</td>\n",
              "      <td>0</td>\n",
              "      <td>0</td>\n",
              "      <td>12</td>\n",
              "    </tr>\n",
              "    <tr>\n",
              "      <th>...</th>\n",
              "      <td>...</td>\n",
              "      <td>...</td>\n",
              "      <td>...</td>\n",
              "      <td>...</td>\n",
              "      <td>...</td>\n",
              "      <td>...</td>\n",
              "      <td>...</td>\n",
              "      <td>...</td>\n",
              "      <td>...</td>\n",
              "      <td>...</td>\n",
              "      <td>...</td>\n",
              "      <td>...</td>\n",
              "      <td>...</td>\n",
              "      <td>...</td>\n",
              "      <td>...</td>\n",
              "      <td>...</td>\n",
              "      <td>...</td>\n",
              "      <td>...</td>\n",
              "      <td>...</td>\n",
              "    </tr>\n",
              "    <tr>\n",
              "      <th>8755</th>\n",
              "      <td>30/11/2018</td>\n",
              "      <td>1003</td>\n",
              "      <td>19</td>\n",
              "      <td>4.2</td>\n",
              "      <td>34</td>\n",
              "      <td>2.6</td>\n",
              "      <td>1894</td>\n",
              "      <td>-10.3</td>\n",
              "      <td>0.0</td>\n",
              "      <td>0.0</td>\n",
              "      <td>0.0</td>\n",
              "      <td>3</td>\n",
              "      <td>0</td>\n",
              "      <td>1</td>\n",
              "      <td>0</td>\n",
              "      <td>0</td>\n",
              "      <td>0</td>\n",
              "      <td>1</td>\n",
              "      <td>11</td>\n",
              "    </tr>\n",
              "    <tr>\n",
              "      <th>8756</th>\n",
              "      <td>30/11/2018</td>\n",
              "      <td>764</td>\n",
              "      <td>20</td>\n",
              "      <td>3.4</td>\n",
              "      <td>37</td>\n",
              "      <td>2.3</td>\n",
              "      <td>2000</td>\n",
              "      <td>-9.9</td>\n",
              "      <td>0.0</td>\n",
              "      <td>0.0</td>\n",
              "      <td>0.0</td>\n",
              "      <td>3</td>\n",
              "      <td>0</td>\n",
              "      <td>1</td>\n",
              "      <td>0</td>\n",
              "      <td>0</td>\n",
              "      <td>0</td>\n",
              "      <td>0</td>\n",
              "      <td>11</td>\n",
              "    </tr>\n",
              "    <tr>\n",
              "      <th>8757</th>\n",
              "      <td>30/11/2018</td>\n",
              "      <td>694</td>\n",
              "      <td>21</td>\n",
              "      <td>2.6</td>\n",
              "      <td>39</td>\n",
              "      <td>0.3</td>\n",
              "      <td>1968</td>\n",
              "      <td>-9.9</td>\n",
              "      <td>0.0</td>\n",
              "      <td>0.0</td>\n",
              "      <td>0.0</td>\n",
              "      <td>3</td>\n",
              "      <td>0</td>\n",
              "      <td>1</td>\n",
              "      <td>0</td>\n",
              "      <td>0</td>\n",
              "      <td>0</td>\n",
              "      <td>1</td>\n",
              "      <td>11</td>\n",
              "    </tr>\n",
              "    <tr>\n",
              "      <th>8758</th>\n",
              "      <td>30/11/2018</td>\n",
              "      <td>712</td>\n",
              "      <td>22</td>\n",
              "      <td>2.1</td>\n",
              "      <td>41</td>\n",
              "      <td>1.0</td>\n",
              "      <td>1859</td>\n",
              "      <td>-9.8</td>\n",
              "      <td>0.0</td>\n",
              "      <td>0.0</td>\n",
              "      <td>0.0</td>\n",
              "      <td>3</td>\n",
              "      <td>0</td>\n",
              "      <td>1</td>\n",
              "      <td>0</td>\n",
              "      <td>0</td>\n",
              "      <td>0</td>\n",
              "      <td>1</td>\n",
              "      <td>11</td>\n",
              "    </tr>\n",
              "    <tr>\n",
              "      <th>8759</th>\n",
              "      <td>30/11/2018</td>\n",
              "      <td>584</td>\n",
              "      <td>23</td>\n",
              "      <td>1.9</td>\n",
              "      <td>43</td>\n",
              "      <td>1.3</td>\n",
              "      <td>1909</td>\n",
              "      <td>-9.3</td>\n",
              "      <td>0.0</td>\n",
              "      <td>0.0</td>\n",
              "      <td>0.0</td>\n",
              "      <td>3</td>\n",
              "      <td>0</td>\n",
              "      <td>1</td>\n",
              "      <td>0</td>\n",
              "      <td>0</td>\n",
              "      <td>0</td>\n",
              "      <td>1</td>\n",
              "      <td>11</td>\n",
              "    </tr>\n",
              "  </tbody>\n",
              "</table>\n",
              "<p>8760 rows × 19 columns</p>\n",
              "</div>"
            ],
            "text/plain": [
              "            Date  bikeCount  Hour  Temperature  ...  Rainy  Sunny  VisMax  Month\n",
              "0     01/12/2017        254     0         -5.2  ...      0      0       0     12\n",
              "1     01/12/2017        204     1         -5.5  ...      0      0       0     12\n",
              "2     01/12/2017        173     2         -6.0  ...      0      0       0     12\n",
              "3     01/12/2017        107     3         -6.2  ...      0      0       0     12\n",
              "4     01/12/2017         78     4         -6.0  ...      0      0       0     12\n",
              "...          ...        ...   ...          ...  ...    ...    ...     ...    ...\n",
              "8755  30/11/2018       1003    19          4.2  ...      0      0       1     11\n",
              "8756  30/11/2018        764    20          3.4  ...      0      0       0     11\n",
              "8757  30/11/2018        694    21          2.6  ...      0      0       1     11\n",
              "8758  30/11/2018        712    22          2.1  ...      0      0       1     11\n",
              "8759  30/11/2018        584    23          1.9  ...      0      0       1     11\n",
              "\n",
              "[8760 rows x 19 columns]"
            ]
          },
          "metadata": {
            "tags": []
          },
          "execution_count": 50
        }
      ]
    },
    {
      "cell_type": "markdown",
      "metadata": {
        "id": "6L1u0uAT3AFU"
      },
      "source": [
        "# ML"
      ]
    },
    {
      "cell_type": "code",
      "metadata": {
        "id": "F3wXG7-jVzfv"
      },
      "source": [
        "import numpy as np\r\n",
        "\r\n",
        "columns = BikeData.columns\r\n",
        "mask = np.ones(columns.shape, dtype=bool)\r\n",
        "mask[0]=0\r\n",
        "mask[1]=0"
      ],
      "execution_count": null,
      "outputs": []
    },
    {
      "cell_type": "code",
      "metadata": {
        "id": "Dk9HmD3j2-BT"
      },
      "source": [
        "\r\n",
        "from sklearn.model_selection import train_test_split\r\n",
        "X_train, X_test, y_train, y_test = train_test_split(BikeData[columns[mask]], BikeData[columns[1]], test_size=0.33)"
      ],
      "execution_count": null,
      "outputs": []
    },
    {
      "cell_type": "code",
      "metadata": {
        "id": "9ZC3jMp0WuGy"
      },
      "source": [
        "\r\n",
        "from sklearn.preprocessing import StandardScaler\r\n",
        "scaler = StandardScaler()\r\n",
        "scaler.fit(X_train)                 # Il ne faut fiter que sur les data d'entrainement\r\n",
        "X_train = scaler.transform(X_train)\r\n",
        "X_test  = scaler.transform(X_test)  # apply same transformation to test data"
      ],
      "execution_count": null,
      "outputs": []
    },
    {
      "cell_type": "markdown",
      "metadata": {
        "id": "UNePGdC5fZTG"
      },
      "source": [
        "## Support Vector Machine"
      ]
    },
    {
      "cell_type": "code",
      "metadata": {
        "id": "QBMCroVP0oSC"
      },
      "source": [
        "\r\n",
        "from sklearn import svm\r\n",
        "svr = svm.SVR(kernel='linear')"
      ],
      "execution_count": null,
      "outputs": []
    },
    {
      "cell_type": "code",
      "metadata": {
        "colab": {
          "base_uri": "https://localhost:8080/"
        },
        "id": "cKixMcXTWxlE",
        "outputId": "4d6a3970-40ed-464c-fb8a-324ee975f09a"
      },
      "source": [
        "from sklearn.model_selection import GridSearchCV\r\n",
        "parameters = {  'gamma' : [0.01, 0.1, 0.5]           }\r\n",
        "grid       = GridSearchCV(svm.SVR(), parameters, n_jobs=-1)\r\n",
        "grid.fit(X_train, y_train)\r\n",
        "print (grid.best_score_, grid.best_estimator_)"
      ],
      "execution_count": null,
      "outputs": [
        {
          "output_type": "stream",
          "text": [
            "0.2368231559361619 SVR(C=1.0, cache_size=200, coef0=0.0, degree=3, epsilon=0.1, gamma=0.1,\n",
            "    kernel='rbf', max_iter=-1, shrinking=True, tol=0.001, verbose=False)\n"
          ],
          "name": "stdout"
        }
      ]
    },
    {
      "cell_type": "code",
      "metadata": {
        "id": "qYfWxtAjXJoi"
      },
      "source": [
        "# parameters = {  'C'      : [0.5, 1, 1.5]             ,\r\n",
        "#                 'gamma'  : [0.5, 0.1, 0.15]      }\r\n",
        "# grid = GridSearchCV(svm.SVR(), parameters, n_jobs=-1)\r\n",
        "# grid.fit(X_train, y_train)\r\n",
        "# print (grid.best_score_, grid.best_estimator_)"
      ],
      "execution_count": null,
      "outputs": []
    },
    {
      "cell_type": "code",
      "metadata": {
        "id": "Dcp9fhjHcMHQ"
      },
      "source": [
        "# parameters = {  'C'      : [6, 8, 10]             ,\r\n",
        "#                 'gamma'  : [0.01, 0.1, 0.15]      }\r\n",
        "# grid = GridSearchCV(svm.SVR(), parameters, n_jobs=-1)\r\n",
        "# grid.fit(X_train, y_train)\r\n",
        "# print (grid.best_score_, grid.best_estimator_)"
      ],
      "execution_count": null,
      "outputs": []
    },
    {
      "cell_type": "code",
      "metadata": {
        "id": "QHTXXuKtcsUu"
      },
      "source": [
        "# parameters = {  'C'      : [10, 15, 20]             ,\r\n",
        "#                 'gamma'  : [0.01, 0.1, 0.15]      }\r\n",
        "# grid = GridSearchCV(svm.SVR(), parameters, n_jobs=-1)\r\n",
        "# grid.fit(X_train, y_train)\r\n",
        "# print (grid.best_score_, grid.best_estimator_)"
      ],
      "execution_count": null,
      "outputs": []
    },
    {
      "cell_type": "code",
      "metadata": {
        "id": "P_1ln7tbd5VZ"
      },
      "source": [
        "# parameters = {  'C'      : [30, 50, 70]             ,\r\n",
        "#                 'gamma'  : [0.01, 0.1, 0.15]      }\r\n",
        "# grid = GridSearchCV(svm.SVR(), parameters, n_jobs=-1)\r\n",
        "# grid.fit(X_train, y_train)\r\n",
        "# print (grid.best_score_, grid.best_estimator_)"
      ],
      "execution_count": null,
      "outputs": []
    },
    {
      "cell_type": "code",
      "metadata": {
        "id": "K6FZTXyAeBVa"
      },
      "source": [
        "# parameters = {  'C'      : [70, 100, 130]             ,\r\n",
        "#                 'gamma'  : [0.1, 0.15,0.2]      }\r\n",
        "# grid = GridSearchCV(svm.SVR(), parameters, n_jobs=-1)\r\n",
        "# grid.fit(X_train, y_train)\r\n",
        "# print (grid.best_score_, grid.best_estimator_)"
      ],
      "execution_count": null,
      "outputs": []
    },
    {
      "cell_type": "code",
      "metadata": {
        "id": "Ey_bteUwe3Ot"
      },
      "source": [
        "# parameters = {  'C'      : [300, 500, 700]             ,\r\n",
        "#                 'gamma'  : [0.1, 0.15,0.2]      }\r\n",
        "# grid = GridSearchCV(svm.SVR(), parameters, n_jobs=-1)\r\n",
        "# grid.fit(X_train, y_train)\r\n",
        "# print (grid.best_score_, grid.best_estimator_)"
      ],
      "execution_count": null,
      "outputs": []
    },
    {
      "cell_type": "markdown",
      "metadata": {
        "id": "et5LFCvzlzze"
      },
      "source": [
        "etc"
      ]
    },
    {
      "cell_type": "code",
      "metadata": {
        "colab": {
          "base_uri": "https://localhost:8080/"
        },
        "id": "HZ2cKVr5f2si",
        "outputId": "463cc1f0-3cec-41b9-ebd7-f70732f43822"
      },
      "source": [
        "parameters = {  'C'      : [43500]             ,\r\n",
        "                'gamma'  : [0.1]      }\r\n",
        "grid = GridSearchCV(svm.SVR(), parameters, n_jobs=-1)\r\n",
        "grid.fit(X_train, y_train)\r\n",
        "print (grid.best_score_, grid.best_estimator_)"
      ],
      "execution_count": null,
      "outputs": [
        {
          "output_type": "stream",
          "text": [
            "0.8446376402395626 SVR(C=43500, cache_size=200, coef0=0.0, degree=3, epsilon=0.1, gamma=0.1,\n",
            "    kernel='rbf', max_iter=-1, shrinking=True, tol=0.001, verbose=False)\n"
          ],
          "name": "stdout"
        }
      ]
    },
    {
      "cell_type": "markdown",
      "metadata": {
        "id": "t2tt6P2SpewG"
      },
      "source": [
        "## ARDRegression"
      ]
    },
    {
      "cell_type": "code",
      "metadata": {
        "id": "SDrstjAQgoc-"
      },
      "source": [
        "from sklearn import linear_model\r\n",
        "clf = linear_model.ARDRegression()\r\n",
        "clf.fit(X_train,y_train)"
      ],
      "execution_count": null,
      "outputs": []
    },
    {
      "cell_type": "code",
      "metadata": {
        "id": "vHXmdGdM0Hx_"
      },
      "source": [
        "from sklearn.metrics import mean_squared_error\r\n",
        "mean_squared_error(y_test,clf.predict(X_test))"
      ],
      "execution_count": null,
      "outputs": [
        {
          "output_type": "execute_result",
          "data": {
            "text/plain": [
              "168329.87283728195"
            ]
          },
          "metadata": {
            "tags": []
          },
          "execution_count": 66
        }
      ]
    },
    {
      "cell_type": "markdown",
      "metadata": {
        "id": "ReTR2LTuAMXX"
      },
      "source": [
        "## RidgeCV"
      ]
    },
    {
      "cell_type": "code",
      "metadata": {
        "id": "5WZFUfWD_5TB",
        "colab": {
          "base_uri": "https://localhost:8080/"
        },
        "outputId": "474844ae-dc0e-4016-9d1a-f4f48d1a92b5"
      },
      "source": [
        "from sklearn import linear_model\r\n",
        "clf = linear_model.RidgeCV()\r\n",
        "clf.fit(X_train,y_train)\r\n",
        "mean_squared_error(y_test,clf.predict(X_test))"
      ],
      "execution_count": null,
      "outputs": [
        {
          "output_type": "execute_result",
          "data": {
            "text/plain": [
              "173153.07004413992"
            ]
          },
          "metadata": {
            "tags": []
          },
          "execution_count": 67
        }
      ]
    },
    {
      "cell_type": "markdown",
      "metadata": {
        "id": "OeGdh8M6eOdj"
      },
      "source": [
        "# API"
      ]
    },
    {
      "cell_type": "code",
      "metadata": {
        "id": "NuDEvl_WAnN9",
        "colab": {
          "base_uri": "https://localhost:8080/"
        },
        "outputId": "b789cc8d-307d-4e24-8a49-cfdc3279d18a"
      },
      "source": [
        "\r\n",
        "model = svm.SVR(kernel='linear',C=43500,gamma=0.1)\r\n",
        "model.fit(X_train, y_train)\r\n",
        "\r\n",
        "from joblib import dump\r\n",
        "\r\n",
        "dump(model, 'api.joblib')"
      ],
      "execution_count": null,
      "outputs": [
        {
          "output_type": "execute_result",
          "data": {
            "text/plain": [
              "['api.joblib']"
            ]
          },
          "metadata": {
            "tags": []
          },
          "execution_count": 69
        }
      ]
    }
  ]
}
